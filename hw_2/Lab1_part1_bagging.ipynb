{
 "cells": [
  {
   "cell_type": "markdown",
   "metadata": {
    "nbgrader": {
     "grade": false,
     "grade_id": "cell-86e0de040aac317a",
     "locked": true,
     "schema_version": 2,
     "solution": false
    }
   },
   "source": [
    "# Лабораторная работа №1. \n",
    "\n",
    "Данная лабораторная работа состоит из нескольких блоков. В каждом блоке вам предлагается произвести некоторые манипуляции с данными и сделать некоторые выводы.\n",
    "* Задавать вопросы можно и нужно.\n",
    "* Списывать не нужно. Работы, которые были списаны обнуляются.\n",
    "* Блоки выполняются последовательно и оцениваются отдельно."
   ]
  },
  {
   "cell_type": "markdown",
   "metadata": {},
   "source": [
    "__Вторая часть задания про градиентный бустинг и третья про SVM ждут вас в соседних ноутбуках.__"
   ]
  },
  {
   "cell_type": "markdown",
   "metadata": {
    "nbgrader": {
     "grade": false,
     "grade_id": "cell-512ba712fc0fc065",
     "locked": true,
     "schema_version": 2,
     "solution": false
    }
   },
   "source": [
    "## Часть 1. Работа с моделями и ансамблями моделей в задачи классификации."
   ]
  },
  {
   "cell_type": "markdown",
   "metadata": {
    "nbgrader": {
     "grade": false,
     "grade_id": "cell-b656a4266174b009",
     "locked": true,
     "schema_version": 2,
     "solution": false
    }
   },
   "source": [
    "### 1. Чтение данных.\n",
    "Воспользуемся [датасетом](https://archive.ics.uci.edu/ml/datasets/Statlog+%28Vehicle+Silhouettes%29), в котором описываются различные автомобили. Будем решать задачу многоклассовой ($k=4$) классификации.\n",
    "Для удобства, датасет уже преобразован в удобный формат."
   ]
  },
  {
   "cell_type": "code",
   "execution_count": 1,
   "metadata": {
    "nbgrader": {
     "grade": false,
     "grade_id": "cell-eebac6bfdf73d0bc",
     "locked": true,
     "schema_version": 2,
     "solution": false
    }
   },
   "outputs": [
    {
     "name": "stdout",
     "output_type": "stream",
     "text": [
      "(846, 19) (846,)\n",
      "(549, 19) (549,) (297, 19) (297,)\n"
     ]
    }
   ],
   "source": [
    "import pandas as pd\n",
    "import numpy as np\n",
    "from sklearn.model_selection import train_test_split\n",
    "\n",
    "dataset = pd.read_csv('car_data.csv', delimiter=',', header=None).values\n",
    "data = dataset[:, :-1].astype(int)\n",
    "target = dataset[:, -1]\n",
    "\n",
    "print(data.shape, target.shape)\n",
    "\n",
    "X_train, X_test, y_train, y_test = train_test_split(data, target, test_size=0.35)\n",
    "print(X_train.shape, y_train.shape, X_test.shape, y_test.shape)"
   ]
  },
  {
   "cell_type": "markdown",
   "metadata": {
    "nbgrader": {
     "grade": false,
     "grade_id": "cell-88b1a0f688568f2c",
     "locked": true,
     "schema_version": 2,
     "solution": false
    }
   },
   "source": [
    "Для первичного анализа может быть полезна библиотека `pandas`. Преобразуем `train` выборку в `pd.DataFrame`."
   ]
  },
  {
   "cell_type": "code",
   "execution_count": 2,
   "metadata": {},
   "outputs": [
    {
     "data": {
      "text/html": [
       "<div>\n",
       "<style scoped>\n",
       "    .dataframe tbody tr th:only-of-type {\n",
       "        vertical-align: middle;\n",
       "    }\n",
       "\n",
       "    .dataframe tbody tr th {\n",
       "        vertical-align: top;\n",
       "    }\n",
       "\n",
       "    .dataframe thead th {\n",
       "        text-align: right;\n",
       "    }\n",
       "</style>\n",
       "<table border=\"1\" class=\"dataframe\">\n",
       "  <thead>\n",
       "    <tr style=\"text-align: right;\">\n",
       "      <th></th>\n",
       "      <th>0</th>\n",
       "      <th>1</th>\n",
       "      <th>2</th>\n",
       "      <th>3</th>\n",
       "      <th>4</th>\n",
       "      <th>5</th>\n",
       "      <th>6</th>\n",
       "      <th>7</th>\n",
       "      <th>8</th>\n",
       "      <th>9</th>\n",
       "      <th>10</th>\n",
       "      <th>11</th>\n",
       "      <th>12</th>\n",
       "      <th>13</th>\n",
       "      <th>14</th>\n",
       "      <th>15</th>\n",
       "      <th>16</th>\n",
       "      <th>17</th>\n",
       "      <th>18</th>\n",
       "    </tr>\n",
       "  </thead>\n",
       "  <tbody>\n",
       "    <tr>\n",
       "      <th>0</th>\n",
       "      <td>461</td>\n",
       "      <td>106</td>\n",
       "      <td>52</td>\n",
       "      <td>107</td>\n",
       "      <td>211</td>\n",
       "      <td>62</td>\n",
       "      <td>8</td>\n",
       "      <td>200</td>\n",
       "      <td>33</td>\n",
       "      <td>23</td>\n",
       "      <td>161</td>\n",
       "      <td>218</td>\n",
       "      <td>602</td>\n",
       "      <td>200</td>\n",
       "      <td>67</td>\n",
       "      <td>9</td>\n",
       "      <td>17</td>\n",
       "      <td>194</td>\n",
       "      <td>201</td>\n",
       "    </tr>\n",
       "    <tr>\n",
       "      <th>1</th>\n",
       "      <td>85</td>\n",
       "      <td>110</td>\n",
       "      <td>58</td>\n",
       "      <td>106</td>\n",
       "      <td>180</td>\n",
       "      <td>51</td>\n",
       "      <td>6</td>\n",
       "      <td>261</td>\n",
       "      <td>26</td>\n",
       "      <td>28</td>\n",
       "      <td>171</td>\n",
       "      <td>278</td>\n",
       "      <td>998</td>\n",
       "      <td>257</td>\n",
       "      <td>83</td>\n",
       "      <td>9</td>\n",
       "      <td>13</td>\n",
       "      <td>181</td>\n",
       "      <td>182</td>\n",
       "    </tr>\n",
       "    <tr>\n",
       "      <th>2</th>\n",
       "      <td>48</td>\n",
       "      <td>89</td>\n",
       "      <td>47</td>\n",
       "      <td>81</td>\n",
       "      <td>147</td>\n",
       "      <td>64</td>\n",
       "      <td>11</td>\n",
       "      <td>156</td>\n",
       "      <td>44</td>\n",
       "      <td>20</td>\n",
       "      <td>163</td>\n",
       "      <td>170</td>\n",
       "      <td>352</td>\n",
       "      <td>188</td>\n",
       "      <td>76</td>\n",
       "      <td>6</td>\n",
       "      <td>13</td>\n",
       "      <td>184</td>\n",
       "      <td>193</td>\n",
       "    </tr>\n",
       "    <tr>\n",
       "      <th>3</th>\n",
       "      <td>287</td>\n",
       "      <td>88</td>\n",
       "      <td>43</td>\n",
       "      <td>84</td>\n",
       "      <td>136</td>\n",
       "      <td>55</td>\n",
       "      <td>11</td>\n",
       "      <td>154</td>\n",
       "      <td>44</td>\n",
       "      <td>19</td>\n",
       "      <td>150</td>\n",
       "      <td>174</td>\n",
       "      <td>350</td>\n",
       "      <td>164</td>\n",
       "      <td>73</td>\n",
       "      <td>6</td>\n",
       "      <td>2</td>\n",
       "      <td>185</td>\n",
       "      <td>196</td>\n",
       "    </tr>\n",
       "    <tr>\n",
       "      <th>4</th>\n",
       "      <td>435</td>\n",
       "      <td>85</td>\n",
       "      <td>37</td>\n",
       "      <td>68</td>\n",
       "      <td>145</td>\n",
       "      <td>60</td>\n",
       "      <td>6</td>\n",
       "      <td>130</td>\n",
       "      <td>51</td>\n",
       "      <td>18</td>\n",
       "      <td>130</td>\n",
       "      <td>150</td>\n",
       "      <td>253</td>\n",
       "      <td>121</td>\n",
       "      <td>65</td>\n",
       "      <td>3</td>\n",
       "      <td>14</td>\n",
       "      <td>195</td>\n",
       "      <td>203</td>\n",
       "    </tr>\n",
       "    <tr>\n",
       "      <th>5</th>\n",
       "      <td>260</td>\n",
       "      <td>83</td>\n",
       "      <td>37</td>\n",
       "      <td>54</td>\n",
       "      <td>118</td>\n",
       "      <td>55</td>\n",
       "      <td>4</td>\n",
       "      <td>129</td>\n",
       "      <td>52</td>\n",
       "      <td>18</td>\n",
       "      <td>127</td>\n",
       "      <td>146</td>\n",
       "      <td>245</td>\n",
       "      <td>140</td>\n",
       "      <td>81</td>\n",
       "      <td>4</td>\n",
       "      <td>13</td>\n",
       "      <td>180</td>\n",
       "      <td>184</td>\n",
       "    </tr>\n",
       "    <tr>\n",
       "      <th>6</th>\n",
       "      <td>402</td>\n",
       "      <td>101</td>\n",
       "      <td>52</td>\n",
       "      <td>105</td>\n",
       "      <td>162</td>\n",
       "      <td>53</td>\n",
       "      <td>10</td>\n",
       "      <td>212</td>\n",
       "      <td>31</td>\n",
       "      <td>24</td>\n",
       "      <td>163</td>\n",
       "      <td>226</td>\n",
       "      <td>669</td>\n",
       "      <td>204</td>\n",
       "      <td>74</td>\n",
       "      <td>12</td>\n",
       "      <td>11</td>\n",
       "      <td>186</td>\n",
       "      <td>194</td>\n",
       "    </tr>\n",
       "    <tr>\n",
       "      <th>7</th>\n",
       "      <td>515</td>\n",
       "      <td>76</td>\n",
       "      <td>38</td>\n",
       "      <td>58</td>\n",
       "      <td>125</td>\n",
       "      <td>58</td>\n",
       "      <td>5</td>\n",
       "      <td>133</td>\n",
       "      <td>51</td>\n",
       "      <td>18</td>\n",
       "      <td>127</td>\n",
       "      <td>152</td>\n",
       "      <td>259</td>\n",
       "      <td>145</td>\n",
       "      <td>87</td>\n",
       "      <td>0</td>\n",
       "      <td>21</td>\n",
       "      <td>177</td>\n",
       "      <td>184</td>\n",
       "    </tr>\n",
       "    <tr>\n",
       "      <th>8</th>\n",
       "      <td>761</td>\n",
       "      <td>115</td>\n",
       "      <td>51</td>\n",
       "      <td>100</td>\n",
       "      <td>201</td>\n",
       "      <td>60</td>\n",
       "      <td>12</td>\n",
       "      <td>196</td>\n",
       "      <td>34</td>\n",
       "      <td>23</td>\n",
       "      <td>162</td>\n",
       "      <td>207</td>\n",
       "      <td>573</td>\n",
       "      <td>184</td>\n",
       "      <td>62</td>\n",
       "      <td>22</td>\n",
       "      <td>1</td>\n",
       "      <td>198</td>\n",
       "      <td>208</td>\n",
       "    </tr>\n",
       "    <tr>\n",
       "      <th>9</th>\n",
       "      <td>739</td>\n",
       "      <td>96</td>\n",
       "      <td>44</td>\n",
       "      <td>85</td>\n",
       "      <td>166</td>\n",
       "      <td>66</td>\n",
       "      <td>10</td>\n",
       "      <td>155</td>\n",
       "      <td>43</td>\n",
       "      <td>19</td>\n",
       "      <td>150</td>\n",
       "      <td>167</td>\n",
       "      <td>355</td>\n",
       "      <td>159</td>\n",
       "      <td>67</td>\n",
       "      <td>3</td>\n",
       "      <td>10</td>\n",
       "      <td>192</td>\n",
       "      <td>202</td>\n",
       "    </tr>\n",
       "    <tr>\n",
       "      <th>10</th>\n",
       "      <td>404</td>\n",
       "      <td>103</td>\n",
       "      <td>48</td>\n",
       "      <td>101</td>\n",
       "      <td>204</td>\n",
       "      <td>62</td>\n",
       "      <td>12</td>\n",
       "      <td>200</td>\n",
       "      <td>33</td>\n",
       "      <td>23</td>\n",
       "      <td>158</td>\n",
       "      <td>215</td>\n",
       "      <td>595</td>\n",
       "      <td>164</td>\n",
       "      <td>66</td>\n",
       "      <td>8</td>\n",
       "      <td>22</td>\n",
       "      <td>192</td>\n",
       "      <td>202</td>\n",
       "    </tr>\n",
       "    <tr>\n",
       "      <th>11</th>\n",
       "      <td>280</td>\n",
       "      <td>100</td>\n",
       "      <td>44</td>\n",
       "      <td>93</td>\n",
       "      <td>193</td>\n",
       "      <td>62</td>\n",
       "      <td>8</td>\n",
       "      <td>186</td>\n",
       "      <td>35</td>\n",
       "      <td>22</td>\n",
       "      <td>147</td>\n",
       "      <td>202</td>\n",
       "      <td>521</td>\n",
       "      <td>151</td>\n",
       "      <td>66</td>\n",
       "      <td>0</td>\n",
       "      <td>2</td>\n",
       "      <td>193</td>\n",
       "      <td>198</td>\n",
       "    </tr>\n",
       "    <tr>\n",
       "      <th>12</th>\n",
       "      <td>585</td>\n",
       "      <td>85</td>\n",
       "      <td>35</td>\n",
       "      <td>64</td>\n",
       "      <td>129</td>\n",
       "      <td>57</td>\n",
       "      <td>6</td>\n",
       "      <td>116</td>\n",
       "      <td>57</td>\n",
       "      <td>17</td>\n",
       "      <td>125</td>\n",
       "      <td>138</td>\n",
       "      <td>200</td>\n",
       "      <td>123</td>\n",
       "      <td>65</td>\n",
       "      <td>1</td>\n",
       "      <td>23</td>\n",
       "      <td>196</td>\n",
       "      <td>203</td>\n",
       "    </tr>\n",
       "    <tr>\n",
       "      <th>13</th>\n",
       "      <td>447</td>\n",
       "      <td>95</td>\n",
       "      <td>57</td>\n",
       "      <td>104</td>\n",
       "      <td>228</td>\n",
       "      <td>74</td>\n",
       "      <td>10</td>\n",
       "      <td>212</td>\n",
       "      <td>31</td>\n",
       "      <td>24</td>\n",
       "      <td>175</td>\n",
       "      <td>224</td>\n",
       "      <td>670</td>\n",
       "      <td>223</td>\n",
       "      <td>74</td>\n",
       "      <td>0</td>\n",
       "      <td>4</td>\n",
       "      <td>186</td>\n",
       "      <td>193</td>\n",
       "    </tr>\n",
       "    <tr>\n",
       "      <th>14</th>\n",
       "      <td>651</td>\n",
       "      <td>85</td>\n",
       "      <td>40</td>\n",
       "      <td>66</td>\n",
       "      <td>136</td>\n",
       "      <td>58</td>\n",
       "      <td>6</td>\n",
       "      <td>142</td>\n",
       "      <td>48</td>\n",
       "      <td>19</td>\n",
       "      <td>137</td>\n",
       "      <td>164</td>\n",
       "      <td>295</td>\n",
       "      <td>164</td>\n",
       "      <td>77</td>\n",
       "      <td>2</td>\n",
       "      <td>22</td>\n",
       "      <td>182</td>\n",
       "      <td>186</td>\n",
       "    </tr>\n",
       "  </tbody>\n",
       "</table>\n",
       "</div>"
      ],
      "text/plain": [
       "     0    1   2    3    4   5   6    7   8   9    10   11   12   13  14  15  \\\n",
       "0   461  106  52  107  211  62   8  200  33  23  161  218  602  200  67   9   \n",
       "1    85  110  58  106  180  51   6  261  26  28  171  278  998  257  83   9   \n",
       "2    48   89  47   81  147  64  11  156  44  20  163  170  352  188  76   6   \n",
       "3   287   88  43   84  136  55  11  154  44  19  150  174  350  164  73   6   \n",
       "4   435   85  37   68  145  60   6  130  51  18  130  150  253  121  65   3   \n",
       "5   260   83  37   54  118  55   4  129  52  18  127  146  245  140  81   4   \n",
       "6   402  101  52  105  162  53  10  212  31  24  163  226  669  204  74  12   \n",
       "7   515   76  38   58  125  58   5  133  51  18  127  152  259  145  87   0   \n",
       "8   761  115  51  100  201  60  12  196  34  23  162  207  573  184  62  22   \n",
       "9   739   96  44   85  166  66  10  155  43  19  150  167  355  159  67   3   \n",
       "10  404  103  48  101  204  62  12  200  33  23  158  215  595  164  66   8   \n",
       "11  280  100  44   93  193  62   8  186  35  22  147  202  521  151  66   0   \n",
       "12  585   85  35   64  129  57   6  116  57  17  125  138  200  123  65   1   \n",
       "13  447   95  57  104  228  74  10  212  31  24  175  224  670  223  74   0   \n",
       "14  651   85  40   66  136  58   6  142  48  19  137  164  295  164  77   2   \n",
       "\n",
       "    16   17   18  \n",
       "0   17  194  201  \n",
       "1   13  181  182  \n",
       "2   13  184  193  \n",
       "3    2  185  196  \n",
       "4   14  195  203  \n",
       "5   13  180  184  \n",
       "6   11  186  194  \n",
       "7   21  177  184  \n",
       "8    1  198  208  \n",
       "9   10  192  202  \n",
       "10  22  192  202  \n",
       "11   2  193  198  \n",
       "12  23  196  203  \n",
       "13   4  186  193  \n",
       "14  22  182  186  "
      ]
     },
     "execution_count": 2,
     "metadata": {},
     "output_type": "execute_result"
    }
   ],
   "source": [
    "X_train_pd = pd.DataFrame(X_train)\n",
    "\n",
    "# First 15 rows of our dataset.\n",
    "X_train_pd.head(15)"
   ]
  },
  {
   "cell_type": "markdown",
   "metadata": {
    "nbgrader": {
     "grade": false,
     "grade_id": "cell-98e7d91d77d65fcf",
     "locked": true,
     "schema_version": 2,
     "solution": false
    }
   },
   "source": [
    "Воспользовавшись методами `describe` и `info` можно получить полезную информацию о датасете."
   ]
  },
  {
   "cell_type": "code",
   "execution_count": 3,
   "metadata": {},
   "outputs": [
    {
     "data": {
      "text/html": [
       "<div>\n",
       "<style scoped>\n",
       "    .dataframe tbody tr th:only-of-type {\n",
       "        vertical-align: middle;\n",
       "    }\n",
       "\n",
       "    .dataframe tbody tr th {\n",
       "        vertical-align: top;\n",
       "    }\n",
       "\n",
       "    .dataframe thead th {\n",
       "        text-align: right;\n",
       "    }\n",
       "</style>\n",
       "<table border=\"1\" class=\"dataframe\">\n",
       "  <thead>\n",
       "    <tr style=\"text-align: right;\">\n",
       "      <th></th>\n",
       "      <th>0</th>\n",
       "      <th>1</th>\n",
       "      <th>2</th>\n",
       "      <th>3</th>\n",
       "      <th>4</th>\n",
       "      <th>5</th>\n",
       "      <th>6</th>\n",
       "      <th>7</th>\n",
       "      <th>8</th>\n",
       "      <th>9</th>\n",
       "      <th>10</th>\n",
       "      <th>11</th>\n",
       "      <th>12</th>\n",
       "      <th>13</th>\n",
       "      <th>14</th>\n",
       "      <th>15</th>\n",
       "      <th>16</th>\n",
       "      <th>17</th>\n",
       "      <th>18</th>\n",
       "    </tr>\n",
       "  </thead>\n",
       "  <tbody>\n",
       "    <tr>\n",
       "      <th>count</th>\n",
       "      <td>549.000000</td>\n",
       "      <td>549.000000</td>\n",
       "      <td>549.000000</td>\n",
       "      <td>549.000000</td>\n",
       "      <td>549.000000</td>\n",
       "      <td>549.000000</td>\n",
       "      <td>549.000000</td>\n",
       "      <td>549.000000</td>\n",
       "      <td>549.000000</td>\n",
       "      <td>549.000000</td>\n",
       "      <td>549.000000</td>\n",
       "      <td>549.000000</td>\n",
       "      <td>549.000000</td>\n",
       "      <td>549.000000</td>\n",
       "      <td>549.000000</td>\n",
       "      <td>549.000000</td>\n",
       "      <td>549.000000</td>\n",
       "      <td>549.000000</td>\n",
       "      <td>549.000000</td>\n",
       "    </tr>\n",
       "    <tr>\n",
       "      <th>mean</th>\n",
       "      <td>420.204007</td>\n",
       "      <td>93.546448</td>\n",
       "      <td>44.734062</td>\n",
       "      <td>81.706740</td>\n",
       "      <td>167.706740</td>\n",
       "      <td>61.309654</td>\n",
       "      <td>8.400729</td>\n",
       "      <td>168.741348</td>\n",
       "      <td>41.003643</td>\n",
       "      <td>20.579235</td>\n",
       "      <td>147.677596</td>\n",
       "      <td>188.435337</td>\n",
       "      <td>439.876138</td>\n",
       "      <td>174.131148</td>\n",
       "      <td>72.688525</td>\n",
       "      <td>6.369763</td>\n",
       "      <td>12.495446</td>\n",
       "      <td>188.757741</td>\n",
       "      <td>195.316940</td>\n",
       "    </tr>\n",
       "    <tr>\n",
       "      <th>std</th>\n",
       "      <td>245.059441</td>\n",
       "      <td>8.418790</td>\n",
       "      <td>6.253346</td>\n",
       "      <td>15.976933</td>\n",
       "      <td>33.535083</td>\n",
       "      <td>7.215828</td>\n",
       "      <td>4.272608</td>\n",
       "      <td>33.719790</td>\n",
       "      <td>7.938403</td>\n",
       "      <td>2.623519</td>\n",
       "      <td>14.820824</td>\n",
       "      <td>32.291073</td>\n",
       "      <td>179.776593</td>\n",
       "      <td>33.210855</td>\n",
       "      <td>7.521228</td>\n",
       "      <td>4.906784</td>\n",
       "      <td>8.704102</td>\n",
       "      <td>6.282112</td>\n",
       "      <td>7.589954</td>\n",
       "    </tr>\n",
       "    <tr>\n",
       "      <th>min</th>\n",
       "      <td>3.000000</td>\n",
       "      <td>73.000000</td>\n",
       "      <td>33.000000</td>\n",
       "      <td>40.000000</td>\n",
       "      <td>105.000000</td>\n",
       "      <td>47.000000</td>\n",
       "      <td>2.000000</td>\n",
       "      <td>112.000000</td>\n",
       "      <td>26.000000</td>\n",
       "      <td>17.000000</td>\n",
       "      <td>118.000000</td>\n",
       "      <td>130.000000</td>\n",
       "      <td>184.000000</td>\n",
       "      <td>112.000000</td>\n",
       "      <td>59.000000</td>\n",
       "      <td>0.000000</td>\n",
       "      <td>0.000000</td>\n",
       "      <td>176.000000</td>\n",
       "      <td>181.000000</td>\n",
       "    </tr>\n",
       "    <tr>\n",
       "      <th>25%</th>\n",
       "      <td>213.000000</td>\n",
       "      <td>87.000000</td>\n",
       "      <td>40.000000</td>\n",
       "      <td>70.000000</td>\n",
       "      <td>139.000000</td>\n",
       "      <td>57.000000</td>\n",
       "      <td>6.000000</td>\n",
       "      <td>146.000000</td>\n",
       "      <td>33.000000</td>\n",
       "      <td>19.000000</td>\n",
       "      <td>136.000000</td>\n",
       "      <td>167.000000</td>\n",
       "      <td>317.000000</td>\n",
       "      <td>148.000000</td>\n",
       "      <td>67.000000</td>\n",
       "      <td>2.000000</td>\n",
       "      <td>5.000000</td>\n",
       "      <td>184.000000</td>\n",
       "      <td>189.000000</td>\n",
       "    </tr>\n",
       "    <tr>\n",
       "      <th>50%</th>\n",
       "      <td>415.000000</td>\n",
       "      <td>92.000000</td>\n",
       "      <td>44.000000</td>\n",
       "      <td>79.000000</td>\n",
       "      <td>166.000000</td>\n",
       "      <td>61.000000</td>\n",
       "      <td>8.000000</td>\n",
       "      <td>157.000000</td>\n",
       "      <td>43.000000</td>\n",
       "      <td>20.000000</td>\n",
       "      <td>145.000000</td>\n",
       "      <td>177.000000</td>\n",
       "      <td>362.000000</td>\n",
       "      <td>173.000000</td>\n",
       "      <td>72.000000</td>\n",
       "      <td>5.000000</td>\n",
       "      <td>11.000000</td>\n",
       "      <td>188.000000</td>\n",
       "      <td>196.000000</td>\n",
       "    </tr>\n",
       "    <tr>\n",
       "      <th>75%</th>\n",
       "      <td>638.000000</td>\n",
       "      <td>100.000000</td>\n",
       "      <td>49.000000</td>\n",
       "      <td>98.000000</td>\n",
       "      <td>195.000000</td>\n",
       "      <td>65.000000</td>\n",
       "      <td>10.000000</td>\n",
       "      <td>198.000000</td>\n",
       "      <td>46.000000</td>\n",
       "      <td>23.000000</td>\n",
       "      <td>159.000000</td>\n",
       "      <td>217.000000</td>\n",
       "      <td>589.000000</td>\n",
       "      <td>198.000000</td>\n",
       "      <td>76.000000</td>\n",
       "      <td>9.000000</td>\n",
       "      <td>19.000000</td>\n",
       "      <td>193.000000</td>\n",
       "      <td>201.000000</td>\n",
       "    </tr>\n",
       "    <tr>\n",
       "      <th>max</th>\n",
       "      <td>844.000000</td>\n",
       "      <td>117.000000</td>\n",
       "      <td>59.000000</td>\n",
       "      <td>110.000000</td>\n",
       "      <td>333.000000</td>\n",
       "      <td>138.000000</td>\n",
       "      <td>55.000000</td>\n",
       "      <td>265.000000</td>\n",
       "      <td>61.000000</td>\n",
       "      <td>29.000000</td>\n",
       "      <td>188.000000</td>\n",
       "      <td>320.000000</td>\n",
       "      <td>1018.000000</td>\n",
       "      <td>268.000000</td>\n",
       "      <td>135.000000</td>\n",
       "      <td>22.000000</td>\n",
       "      <td>41.000000</td>\n",
       "      <td>206.000000</td>\n",
       "      <td>211.000000</td>\n",
       "    </tr>\n",
       "  </tbody>\n",
       "</table>\n",
       "</div>"
      ],
      "text/plain": [
       "               0           1           2           3           4           5   \\\n",
       "count  549.000000  549.000000  549.000000  549.000000  549.000000  549.000000   \n",
       "mean   420.204007   93.546448   44.734062   81.706740  167.706740   61.309654   \n",
       "std    245.059441    8.418790    6.253346   15.976933   33.535083    7.215828   \n",
       "min      3.000000   73.000000   33.000000   40.000000  105.000000   47.000000   \n",
       "25%    213.000000   87.000000   40.000000   70.000000  139.000000   57.000000   \n",
       "50%    415.000000   92.000000   44.000000   79.000000  166.000000   61.000000   \n",
       "75%    638.000000  100.000000   49.000000   98.000000  195.000000   65.000000   \n",
       "max    844.000000  117.000000   59.000000  110.000000  333.000000  138.000000   \n",
       "\n",
       "               6           7           8           9           10          11  \\\n",
       "count  549.000000  549.000000  549.000000  549.000000  549.000000  549.000000   \n",
       "mean     8.400729  168.741348   41.003643   20.579235  147.677596  188.435337   \n",
       "std      4.272608   33.719790    7.938403    2.623519   14.820824   32.291073   \n",
       "min      2.000000  112.000000   26.000000   17.000000  118.000000  130.000000   \n",
       "25%      6.000000  146.000000   33.000000   19.000000  136.000000  167.000000   \n",
       "50%      8.000000  157.000000   43.000000   20.000000  145.000000  177.000000   \n",
       "75%     10.000000  198.000000   46.000000   23.000000  159.000000  217.000000   \n",
       "max     55.000000  265.000000   61.000000   29.000000  188.000000  320.000000   \n",
       "\n",
       "                12          13          14          15          16  \\\n",
       "count   549.000000  549.000000  549.000000  549.000000  549.000000   \n",
       "mean    439.876138  174.131148   72.688525    6.369763   12.495446   \n",
       "std     179.776593   33.210855    7.521228    4.906784    8.704102   \n",
       "min     184.000000  112.000000   59.000000    0.000000    0.000000   \n",
       "25%     317.000000  148.000000   67.000000    2.000000    5.000000   \n",
       "50%     362.000000  173.000000   72.000000    5.000000   11.000000   \n",
       "75%     589.000000  198.000000   76.000000    9.000000   19.000000   \n",
       "max    1018.000000  268.000000  135.000000   22.000000   41.000000   \n",
       "\n",
       "               17          18  \n",
       "count  549.000000  549.000000  \n",
       "mean   188.757741  195.316940  \n",
       "std      6.282112    7.589954  \n",
       "min    176.000000  181.000000  \n",
       "25%    184.000000  189.000000  \n",
       "50%    188.000000  196.000000  \n",
       "75%    193.000000  201.000000  \n",
       "max    206.000000  211.000000  "
      ]
     },
     "execution_count": 3,
     "metadata": {},
     "output_type": "execute_result"
    }
   ],
   "source": [
    "X_train_pd.describe()"
   ]
  },
  {
   "cell_type": "code",
   "execution_count": 4,
   "metadata": {},
   "outputs": [
    {
     "name": "stdout",
     "output_type": "stream",
     "text": [
      "<class 'pandas.core.frame.DataFrame'>\n",
      "RangeIndex: 549 entries, 0 to 548\n",
      "Data columns (total 19 columns):\n",
      "0     549 non-null int32\n",
      "1     549 non-null int32\n",
      "2     549 non-null int32\n",
      "3     549 non-null int32\n",
      "4     549 non-null int32\n",
      "5     549 non-null int32\n",
      "6     549 non-null int32\n",
      "7     549 non-null int32\n",
      "8     549 non-null int32\n",
      "9     549 non-null int32\n",
      "10    549 non-null int32\n",
      "11    549 non-null int32\n",
      "12    549 non-null int32\n",
      "13    549 non-null int32\n",
      "14    549 non-null int32\n",
      "15    549 non-null int32\n",
      "16    549 non-null int32\n",
      "17    549 non-null int32\n",
      "18    549 non-null int32\n",
      "dtypes: int32(19)\n",
      "memory usage: 40.8 KB\n"
     ]
    }
   ],
   "source": [
    "X_train_pd.info()"
   ]
  },
  {
   "cell_type": "code",
   "execution_count": 5,
   "metadata": {},
   "outputs": [],
   "source": [
    "#print(y_train)"
   ]
  },
  {
   "cell_type": "markdown",
   "metadata": {
    "nbgrader": {
     "grade": false,
     "grade_id": "cell-be844269be69c387",
     "locked": true,
     "schema_version": 2,
     "solution": false
    }
   },
   "source": [
    "### 2. Работа с данными, построение модели, анализ ошибки.\n",
    "Выполните следующие манипуляции с данными:"
   ]
  },
  {
   "cell_type": "markdown",
   "metadata": {},
   "source": [
    "#### 2.0. Предобработка данных.\n",
    "* Произведите необходимые (по вашему мнению) манипуляции с данными и объясните их."
   ]
  },
  {
   "cell_type": "code",
   "execution_count": 6,
   "metadata": {},
   "outputs": [],
   "source": [
    "# Importing SKlearn magic\n",
    "\n",
    "from sklearn.model_selection import train_test_split\n",
    "from sklearn.linear_model import LogisticRegression\n",
    "from sklearn.metrics import f1_score, accuracy_score\n",
    "from sklearn import preprocessing\n",
    "from sklearn.ensemble import RandomForestClassifier\n",
    "from sklearn.model_selection import GridSearchCV"
   ]
  },
  {
   "cell_type": "code",
   "execution_count": 7,
   "metadata": {},
   "outputs": [],
   "source": [
    "# Подправим y_train, y_test так, чтобы там были цифры (на всякий случай)\n",
    "\n",
    "y_train_scaled = []\n",
    "y_test_scaled = []\n",
    "\n",
    "for string in y_train:\n",
    "    if string == 'opel':\n",
    "        y_train_scaled.append(1)\n",
    "    elif string == 'saab':\n",
    "        y_train_scaled.append(2)\n",
    "    elif string == 'bus':\n",
    "        y_train_scaled.append(3)\n",
    "    else:\n",
    "        y_train_scaled.append(4)\n",
    "        \n",
    "for string in y_test:\n",
    "    if string == 'opel':\n",
    "        y_test_scaled.append(1)\n",
    "    elif string == 'saab':\n",
    "        y_test_scaled.append(2)\n",
    "    elif string == 'bus':\n",
    "        y_test_scaled.append(3)\n",
    "    else:\n",
    "        y_test_scaled.append(4)\n"
   ]
  },
  {
   "cell_type": "code",
   "execution_count": 8,
   "metadata": {
    "nbgrader": {
     "grade": true,
     "grade_id": "cell-a1514aa189a49fca",
     "locked": false,
     "points": 15,
     "schema_version": 2,
     "solution": true
    }
   },
   "outputs": [
    {
     "name": "stderr",
     "output_type": "stream",
     "text": [
      "D:\\Anaconda\\lib\\site-packages\\sklearn\\utils\\validation.py:595: DataConversionWarning: Data with input dtype int32 was converted to float64 by StandardScaler.\n",
      "  warnings.warn(msg, DataConversionWarning)\n",
      "D:\\Anaconda\\lib\\site-packages\\sklearn\\utils\\validation.py:595: DataConversionWarning: Data with input dtype int32 was converted to float64 by StandardScaler.\n",
      "  warnings.warn(msg, DataConversionWarning)\n",
      "D:\\Anaconda\\lib\\site-packages\\sklearn\\utils\\validation.py:595: DataConversionWarning: Data with input dtype int32 was converted to float64 by StandardScaler.\n",
      "  warnings.warn(msg, DataConversionWarning)\n",
      "D:\\Anaconda\\lib\\site-packages\\sklearn\\utils\\validation.py:595: DataConversionWarning: Data with input dtype int32 was converted to float64 by StandardScaler.\n",
      "  warnings.warn(msg, DataConversionWarning)\n"
     ]
    }
   ],
   "source": [
    "# Препроцессим данные, потому что мы не пользуемся KNN, также мы не знаем корреляции\n",
    "# поэтому нам в любом случае придётся применить регуляризацию\n",
    "\n",
    "scaler = preprocessing.StandardScaler()\n",
    "X_train_scaled = scaler.fit_transform(X_train)\n",
    "X_test_scaled = scaler.fit_transform(X_test)"
   ]
  },
  {
   "cell_type": "code",
   "execution_count": 37,
   "metadata": {},
   "outputs": [],
   "source": [
    "#print(X_train_scaled)"
   ]
  },
  {
   "cell_type": "markdown",
   "metadata": {},
   "source": [
    "#### 2.1. Базовая логистическая регрессия.\n",
    "* Подберите оптимальные параметры логистической регресии с помощью кросс-валидации на train-датасете (не переусердствуйте с подбором, в данной работе не стоит задача найти самую оптимальную модель. Небольшого grid/random search'а хватит).\n",
    "\n",
    "* Постройте график ROC-кривой для данного классификатора (`sklearn.metrics.roc_curve`), оцените точность классификации и f1-score. "
   ]
  },
  {
   "cell_type": "code",
   "execution_count": 10,
   "metadata": {
    "nbgrader": {
     "grade": true,
     "grade_id": "cell-1dd5ad5d0845cbbb",
     "locked": false,
     "points": 5,
     "schema_version": 2,
     "solution": true
    }
   },
   "outputs": [],
   "source": [
    "lr_clf = LogisticRegression(multi_class = 'multinomial', max_iter = 20000, solver = 'saga', tol = 0.0001)"
   ]
  },
  {
   "cell_type": "code",
   "execution_count": 40,
   "metadata": {},
   "outputs": [],
   "source": [
    "parametrs = {'C':np.linspace(0,10,10), 'penalty':['l1', 'l2']}"
   ]
  },
  {
   "cell_type": "code",
   "execution_count": null,
   "metadata": {},
   "outputs": [],
   "source": [
    "gs = GridSearchCV(lr_clf, parametrs, cv = 5, scoring = 'accuracy', n_jobs=-1)\n",
    "\n",
    "gs.fit(X_train_scaled, y_train_scaled)"
   ]
  },
  {
   "cell_type": "code",
   "execution_count": null,
   "metadata": {
    "scrolled": false
   },
   "outputs": [],
   "source": [
    "gs.best_estimator_"
   ]
  },
  {
   "cell_type": "code",
   "execution_count": null,
   "metadata": {},
   "outputs": [],
   "source": [
    "# Фитим \"лучшую\" лог.регрессию\n",
    "\n",
    "from sklearn.metrics import roc_curve, f1_score\n",
    "\n",
    "lr_best = gs.best_estimator_\n",
    "lr_best.fit(X_train_scaled, y_train_scaled)\n",
    "y_pred = lr_best.predict(X_test_scaled)"
   ]
  },
  {
   "cell_type": "code",
   "execution_count": null,
   "metadata": {
    "scrolled": true
   },
   "outputs": [],
   "source": [
    "from matplotlib import pyplot as plt\n",
    "\n",
    "arr_1_1, arr_2_1, thresh = roc_curve(y_pred, y_test_scaled, pos_label = 1)\n",
    "arr_1_2, arr_2_2, thresh = roc_curve(y_pred, y_test_scaled, pos_label = 2)\n",
    "arr_1_3, arr_2_3, thresh = roc_curve(y_pred, y_test_scaled, pos_label = 3)\n",
    "arr_1_4, arr_2_4, thresh = roc_curve(y_pred, y_test_scaled, pos_label = 4)\n",
    "\n",
    "f = plt.figure(figsize = (8, 6))\n",
    "\n",
    "plt.plot(arr_1_1, arr_2_1, label = '1')\n",
    "plt.plot(arr_1_2, arr_2_2, label = '2')\n",
    "plt.plot(arr_1_3, arr_2_3, label = '3')\n",
    "plt.plot(arr_1_4, arr_2_4, label = '4')\n",
    "plt.legend()\n",
    "plt.plot(np.linspace(0., 1., 49), np.linspace(0., 1., 49))\n",
    "plt.show()\n",
    "\n",
    "# Почему они то сверху, то снизу - никто не знает :c"
   ]
  },
  {
   "cell_type": "code",
   "execution_count": null,
   "metadata": {},
   "outputs": [],
   "source": [
    "f1 = f1_score(y_pred, y_test_scaled, average='macro')\n",
    "\n",
    "\n",
    "print('f1 score = {}'.format(f1))\n",
    "print('Accuracy = {}'.format(lr_best.score(X_test_scaled, y_test_scaled)))"
   ]
  },
  {
   "cell_type": "markdown",
   "metadata": {},
   "source": [
    "#### 2.2. Зависимость объясненной дисперсии от числа главных компонент.\n",
    "Воспользуемся методом главных компонент (PCA). \n",
    "\n",
    "Примените его к train-части данных.\n",
    "Постройте график зависимости объясненной дисперсии (explained variance ratio) от количества главных компонент."
   ]
  },
  {
   "cell_type": "code",
   "execution_count": 17,
   "metadata": {
    "nbgrader": {
     "grade": true,
     "grade_id": "cell-c6c614740bce090e",
     "locked": false,
     "points": 10,
     "schema_version": 2,
     "solution": true
    }
   },
   "outputs": [],
   "source": [
    "# Импортируем\n",
    "\n",
    "from sklearn.decomposition import PCA"
   ]
  },
  {
   "cell_type": "code",
   "execution_count": 18,
   "metadata": {},
   "outputs": [],
   "source": [
    "pca = PCA(n_components=5)\n",
    "\n",
    "x_pca = pca.fit(X_train_scaled)"
   ]
  },
  {
   "cell_type": "code",
   "execution_count": 19,
   "metadata": {},
   "outputs": [
    {
     "data": {
      "image/png": "[encoded data removed]",
      "text/plain": [
       "<Figure size 576x432 with 1 Axes>"
      ]
     },
     "metadata": {
      "needs_background": "light"
     },
     "output_type": "display_data"
    }
   ],
   "source": [
    "# На графике будем строить min(pca.explained_variance_ratio), минуму - потому что с каждым шагом будем видеть\n",
    "# какую дисперсию мы добавляем в обработанные с помощью PCA данные\n",
    "\n",
    "variance = []\n",
    "num_comp = np.linspace(1, 15, 15)\n",
    "\n",
    "for i in range(1, 16):\n",
    "    k = i\n",
    "    pca = PCA(n_components = k)\n",
    "    x_pca = pca.fit(X_test_scaled)\n",
    "    variance.append(min(x_pca.explained_variance_ratio_))\n",
    "    \n",
    "f = plt.figure(figsize = (8, 6))\n",
    "f.suptitle('PCA')\n",
    "\n",
    "plt.scatter(num_comp, variance, label = 'PCA', c = 'r')\n",
    "plt.ylabel('Variance')\n",
    "plt.xlabel('Num. of components')\n",
    "plt.legend()\n",
    "plt.show()"
   ]
  },
  {
   "cell_type": "markdown",
   "metadata": {
    "nbgrader": {
     "grade": false,
     "grade_id": "cell-0c1fe666f52fe53c",
     "locked": true,
     "schema_version": 2,
     "solution": false
    }
   },
   "source": [
    "#### 2.3. Преобразование с помощью PCA.\n",
    "Выберите определенное число компонент. Кратко опишите, чем обусловлен ваш выбор.\n",
    "\n",
    "Используя эти главные компоненты, преобразуйте train и test выборки (используя методы `fit` и `transform`)."
   ]
  },
  {
   "cell_type": "markdown",
   "metadata": {},
   "source": [
    "#### Inside:\n",
    "1) Возьмём 10 компонент, потому что у остальных компонент по сравнению с первыми 8-ю очень маленькая дисперсия, что видно на графике выше"
   ]
  },
  {
   "cell_type": "code",
   "execution_count": 20,
   "metadata": {
    "nbgrader": {
     "grade": true,
     "grade_id": "cell-96ab18d96473ef71",
     "locked": false,
     "points": 5,
     "schema_version": 2,
     "solution": true
    }
   },
   "outputs": [],
   "source": [
    "pca = PCA(n_components=10)\n",
    "\n",
    "X_train_pca = pca.fit_transform(X_train_scaled)\n",
    "X_test_pca = pca.fit_transform(X_test_scaled)"
   ]
  },
  {
   "cell_type": "markdown",
   "metadata": {
    "nbgrader": {
     "grade": false,
     "grade_id": "cell-d28b58a35c94e988",
     "locked": true,
     "schema_version": 2,
     "solution": false
    }
   },
   "source": [
    "#### 2.4. Логистическая регрессия над преобразованными данными.\n",
    "* Подберите оптимальные параметры логистической регресии с помощью кросс-валидации на преобразованном train-датасете.\n",
    "\n",
    "* Постройте график ROC-кривой для полученных классификаторов, оцените точность классификации и f1-score. "
   ]
  },
  {
   "cell_type": "code",
   "execution_count": 21,
   "metadata": {
    "nbgrader": {
     "grade": true,
     "grade_id": "cell-1dd5ad5d0845cbbb",
     "locked": false,
     "points": 5,
     "schema_version": 2,
     "solution": true
    }
   },
   "outputs": [],
   "source": [
    "lr_pca = LogisticRegression(multi_class = 'multinomial', max_iter = 20000, solver = 'saga', tol = 0.0001)"
   ]
  },
  {
   "cell_type": "code",
   "execution_count": 22,
   "metadata": {},
   "outputs": [],
   "source": [
    "parametrs = {'C':[7.5, 10., 11.], 'penalty':['l1', 'l2']}"
   ]
  },
  {
   "cell_type": "code",
   "execution_count": 23,
   "metadata": {},
   "outputs": [
    {
     "data": {
      "text/plain": [
       "GridSearchCV(cv=5, error_score='raise-deprecating',\n",
       "       estimator=LogisticRegression(C=1.0, class_weight=None, dual=False, fit_intercept=True,\n",
       "          intercept_scaling=1, max_iter=20000, multi_class='multinomial',\n",
       "          n_jobs=None, penalty='l2', random_state=None, solver='saga',\n",
       "          tol=0.0001, verbose=0, warm_start=False),\n",
       "       fit_params=None, iid='warn', n_jobs=-1,\n",
       "       param_grid={'C': [7.5, 10.0, 11.0], 'penalty': ['l1', 'l2']},\n",
       "       pre_dispatch='2*n_jobs', refit=True, return_train_score='warn',\n",
       "       scoring='accuracy', verbose=0)"
      ]
     },
     "execution_count": 23,
     "metadata": {},
     "output_type": "execute_result"
    }
   ],
   "source": [
    "gs = GridSearchCV(lr_pca, parametrs, cv = 5, scoring = 'accuracy', n_jobs=-1)\n",
    "\n",
    "gs.fit(X_train_pca, y_train_scaled)"
   ]
  },
  {
   "cell_type": "code",
   "execution_count": 24,
   "metadata": {
    "scrolled": false
   },
   "outputs": [
    {
     "data": {
      "text/plain": [
       "LogisticRegression(C=7.5, class_weight=None, dual=False, fit_intercept=True,\n",
       "          intercept_scaling=1, max_iter=20000, multi_class='multinomial',\n",
       "          n_jobs=None, penalty='l2', random_state=None, solver='saga',\n",
       "          tol=0.0001, verbose=0, warm_start=False)"
      ]
     },
     "execution_count": 24,
     "metadata": {},
     "output_type": "execute_result"
    }
   ],
   "source": [
    "gs.best_estimator_"
   ]
  },
  {
   "cell_type": "code",
   "execution_count": 25,
   "metadata": {},
   "outputs": [],
   "source": [
    "lr_best_pca = LogisticRegression(multi_class = 'multinomial', max_iter = 20000, solver = 'saga', tol = 0.00001, C = 7.5, penalty = 'l1')\n",
    "lr_best_pca.fit(X_train_pca, y_train_scaled)\n",
    "y_pred_pca = lr_best_pca.predict(X_test_pca)"
   ]
  },
  {
   "cell_type": "code",
   "execution_count": 26,
   "metadata": {
    "scrolled": false
   },
   "outputs": [
    {
     "data": {
      "image/png": "[encoded data removed]",
      "text/plain": [
       "<Figure size 576x432 with 1 Axes>"
      ]
     },
     "metadata": {
      "needs_background": "light"
     },
     "output_type": "display_data"
    }
   ],
   "source": [
    "from matplotlib import pyplot as plt\n",
    "\n",
    "arr_1_1, arr_2_1, thresh = roc_curve(y_pred_pca, y_test_scaled, pos_label = 1)\n",
    "arr_1_2, arr_2_2, thresh = roc_curve(y_pred_pca, y_test_scaled, pos_label = 2)\n",
    "arr_1_3, arr_2_3, thresh = roc_curve(y_pred_pca, y_test_scaled, pos_label = 3)\n",
    "arr_1_4, arr_2_4, thresh = roc_curve(y_pred_pca, y_test_scaled, pos_label = 4)\n",
    "\n",
    "f = plt.figure(figsize = (8, 6))\n",
    "\n",
    "plt.plot(arr_1_1, arr_2_1, label = '1')\n",
    "plt.plot(arr_1_2, arr_2_2, label = '2')\n",
    "plt.plot(arr_1_3, arr_2_3, label = '3')\n",
    "plt.plot(arr_1_4, arr_2_4, label = '4')\n",
    "plt.legend()\n",
    "plt.plot(np.linspace(0., 1., 49), np.linspace(0., 1., 49))\n",
    "plt.show()"
   ]
  },
  {
   "cell_type": "code",
   "execution_count": 27,
   "metadata": {},
   "outputs": [
    {
     "name": "stdout",
     "output_type": "stream",
     "text": [
      "f1 score = 0.5451026398603559\n",
      "Accuracy = 0.5387205387205387\n"
     ]
    }
   ],
   "source": [
    "f1 = f1_score(y_pred_pca, y_test_scaled, average='macro')\n",
    "\n",
    "\n",
    "print('f1 score = {}'.format(f1))\n",
    "print('Accuracy = {}'.format(lr_best_pca.score(X_test_pca, y_test_scaled)))"
   ]
  },
  {
   "cell_type": "code",
   "execution_count": 28,
   "metadata": {},
   "outputs": [],
   "source": [
    "#print(X_train_scaled)"
   ]
  },
  {
   "cell_type": "markdown",
   "metadata": {},
   "source": [
    "#### Inside:\n",
    "\n",
    "1) С PCA что-то пошло не так. Хотя данные были препроцессены с использованем StandartScaler'a, но результаты получились какие-то дикие"
   ]
  },
  {
   "cell_type": "markdown",
   "metadata": {
    "nbgrader": {
     "grade": false,
     "grade_id": "cell-4fbf16c64076e139",
     "locked": true,
     "schema_version": 2,
     "solution": false
    }
   },
   "source": [
    "#### 2.5. Решающее дерево.\n",
    "Рассмотрим поведение решающего дерева на исходных и преобразованных данных. Будем варьировать лишь один параметр - максимальную глубину дерева. \n",
    "\n",
    "* С помощью кросс-валидации подберите оптимальный параметр `max_depth` и оцените на исходных и преобразованных данных те же метрики, что и выше."
   ]
  },
  {
   "cell_type": "code",
   "execution_count": 29,
   "metadata": {
    "nbgrader": {
     "grade": true,
     "grade_id": "cell-748ed20b51c67fab",
     "locked": false,
     "points": 15,
     "schema_version": 2,
     "solution": true
    }
   },
   "outputs": [],
   "source": [
    "from sklearn.tree import DecisionTreeClassifier\n",
    "\n",
    "dec_tree = DecisionTreeClassifier(criterion='gini', splitter='best')\n",
    "param_grid = {'max_depth':np.linspace(30, 60, 15)}"
   ]
  },
  {
   "cell_type": "code",
   "execution_count": 30,
   "metadata": {
    "nbgrader": {
     "grade": true,
     "grade_id": "cell-748ed20b51c67fab",
     "locked": false,
     "points": 15,
     "schema_version": 2,
     "solution": true
    }
   },
   "outputs": [
    {
     "data": {
      "text/plain": [
       "GridSearchCV(cv=5, error_score='raise-deprecating',\n",
       "       estimator=DecisionTreeClassifier(class_weight=None, criterion='gini', max_depth=None,\n",
       "            max_features=None, max_leaf_nodes=None,\n",
       "            min_impurity_decrease=0.0, min_impurity_split=None,\n",
       "            min_samples_leaf=1, min_samples_split=2,\n",
       "            min_weight_fraction_leaf=0.0, presort=False, random_state=None,\n",
       "            splitter='best'),\n",
       "       fit_params=None, iid='warn', n_jobs=-1,\n",
       "       param_grid={'max_depth': array([30.     , 32.14286, 34.28571, 36.42857, 38.57143, 40.71429,\n",
       "       42.85714, 45.     , 47.14286, 49.28571, 51.42857, 53.57143,\n",
       "       55.71429, 57.85714, 60.     ])},\n",
       "       pre_dispatch='2*n_jobs', refit=True, return_train_score='warn',\n",
       "       scoring='accuracy', verbose=0)"
      ]
     },
     "execution_count": 30,
     "metadata": {},
     "output_type": "execute_result"
    }
   ],
   "source": [
    "search = GridSearchCV(dec_tree, param_grid, cv = 5, scoring = 'accuracy', n_jobs=-1)\n",
    "\n",
    "search.fit(X_train_scaled, y_train_scaled)"
   ]
  },
  {
   "cell_type": "code",
   "execution_count": 31,
   "metadata": {},
   "outputs": [
    {
     "data": {
      "text/plain": [
       "DecisionTreeClassifier(class_weight=None, criterion='gini',\n",
       "            max_depth=51.42857142857143, max_features=None,\n",
       "            max_leaf_nodes=None, min_impurity_decrease=0.0,\n",
       "            min_impurity_split=None, min_samples_leaf=1,\n",
       "            min_samples_split=2, min_weight_fraction_leaf=0.0,\n",
       "            presort=False, random_state=None, splitter='best')"
      ]
     },
     "execution_count": 31,
     "metadata": {},
     "output_type": "execute_result"
    }
   ],
   "source": [
    "search.best_estimator_"
   ]
  },
  {
   "cell_type": "code",
   "execution_count": 32,
   "metadata": {},
   "outputs": [],
   "source": [
    "best_dt = search.best_estimator_\n",
    "best_dt.fit(X_train_scaled, y_train_scaled)\n",
    "y_pred_pca = best_dt.predict(X_test_scaled)"
   ]
  },
  {
   "cell_type": "code",
   "execution_count": 33,
   "metadata": {},
   "outputs": [
    {
     "data": {
      "image/png": "[encoded data removed]",
      "text/plain": [
       "<Figure size 576x432 with 1 Axes>"
      ]
     },
     "metadata": {
      "needs_background": "light"
     },
     "output_type": "display_data"
    }
   ],
   "source": [
    "from matplotlib import pyplot as plt\n",
    "\n",
    "arr_1_1, arr_2_1, thresh = roc_curve(y_pred_pca, y_test_scaled, pos_label = 1)\n",
    "arr_1_2, arr_2_2, thresh = roc_curve(y_pred_pca, y_test_scaled, pos_label = 2)\n",
    "arr_1_3, arr_2_3, thresh = roc_curve(y_pred_pca, y_test_scaled, pos_label = 3)\n",
    "arr_1_4, arr_2_4, thresh = roc_curve(y_pred_pca, y_test_scaled, pos_label = 4)\n",
    "\n",
    "f = plt.figure(figsize = (8, 6))\n",
    "\n",
    "plt.plot(arr_1_1, arr_2_1, label = '1')\n",
    "plt.plot(arr_1_2, arr_2_2, label = '2')\n",
    "plt.plot(arr_1_3, arr_2_3, label = '3')\n",
    "plt.plot(arr_1_4, arr_2_4, label = '4')\n",
    "plt.legend()\n",
    "plt.plot(np.linspace(0., 1., 49), np.linspace(0., 1., 49))\n",
    "plt.show()"
   ]
  },
  {
   "cell_type": "code",
   "execution_count": 34,
   "metadata": {},
   "outputs": [
    {
     "name": "stdout",
     "output_type": "stream",
     "text": [
      "f1 score = 0.7748238823934166\n",
      "Accuracy = 0.6868686868686869\n"
     ]
    }
   ],
   "source": [
    "f1 = f1_score(y_pred, y_test_scaled, average='macro')\n",
    "\n",
    "\n",
    "print('f1 score = {}'.format(f1))\n",
    "print('Accuracy = {}'.format(best_dt.score(X_test_scaled, y_test_scaled)))"
   ]
  },
  {
   "cell_type": "markdown",
   "metadata": {},
   "source": [
    "#### Inside:\n",
    "\n",
    "1) Наилучший показатель получился у решающего дерева с max_depth = 50"
   ]
  },
  {
   "cell_type": "markdown",
   "metadata": {
    "nbgrader": {
     "grade": false,
     "grade_id": "cell-9eadd4d8a03ae67a",
     "locked": true,
     "schema_version": 2,
     "solution": false
    }
   },
   "source": [
    "#### 2.6. Bagging.\n",
    "Перейдем к ансамблям. \n",
    "\n",
    "Для построения ансамбля воспользуемся Bagging'ом с числом алгоритмов от 2 до 50. В качестве первого семейства базовых алгоримтов будем использовать линейные модели (т.е. логистическую регрессию), в качестве второго - решающие деревья. \n",
    "\n",
    "*Пояснение: Будем строить ансамбль только из моделей из одного семейства, т.е. логистическая регрессия не смешивается с решающими деревьями.*\n",
    "\n",
    "Для этого можно сгенерировать с помощью метода bootstrap 50 подвыборок из `train` выборки (того же размера, что и исходная), обучить логистическую регрессию и решающее дерево с оптимальными параметрами из предыдущего пункта на каждой из подвыборок и затем усреднить предсказания k моделей.\n",
    "\n",
    "*Hint: в sklearn может найтись подходящая функция, которая облегчит вам реализацию данного пункта.*\n",
    "\n",
    "* Постройте график качества классификации и f1-score на `train` и `test` датасетах в зависимости от числа алгоритмов, вошедших в ансамбль.\n",
    "\n",
    "* Проанализируйте график. Какое количество моделей стоит использовать? Как вы думаете, являются ли параметры решающего дерева, подобранные в предыдущем пункте оптимальными в данном случае?"
   ]
  },
  {
   "cell_type": "code",
   "execution_count": null,
   "metadata": {
    "nbgrader": {
     "grade": true,
     "grade_id": "cell-8fc95a2b206bdae1",
     "locked": false,
     "points": 35,
     "schema_version": 2,
     "solution": true
    }
   },
   "outputs": [],
   "source": [
    "# Importing\n",
    "\n",
    "from sklearn.ensemble import BaggingClassifier"
   ]
  },
  {
   "cell_type": "code",
   "execution_count": null,
   "metadata": {},
   "outputs": [],
   "source": [
    "import warnings\n",
    "\n",
    "warnings.filterwarnings('always')"
   ]
  },
  {
   "cell_type": "code",
   "execution_count": null,
   "metadata": {},
   "outputs": [],
   "source": [
    "# Bagging for LogRes\n",
    "\n",
    "f1_score_list = []\n",
    "accuracy = []\n",
    "num_est = np.linspace(2, 50, 49)\n",
    "\n",
    "# Used estimator\n",
    "lr_best_bagg = LogisticRegression(multi_class = 'multinomial', max_iter = 10000, solver = 'saga', tol = 0.00001, C = 6.0, penalty = 'l1')\n",
    "\n",
    "for x in num_est:\n",
    "    k = int(x)\n",
    "    bagg = BaggingClassifier(base_estimator=lr_best_bagg, n_estimators=k, max_samples=1.0)\n",
    "    bagg.fit(X_train_scaled, y_train_scaled)\n",
    "    y_pred_bagg = bagg.predict(X_test_scaled)\n",
    "    f1_score_list.append(f1_score(y_pred_bagg, y_test_scaled, average='macro'))\n",
    "    accuracy.append(bagg.score(X_test_scaled, y_test_scaled))   "
   ]
  },
  {
   "cell_type": "code",
   "execution_count": null,
   "metadata": {},
   "outputs": [],
   "source": [
    "# Plotting\n",
    "\n",
    "f = plt.figure(figsize = (8, 6))\n",
    "f.suptitle('Bagging for LogRes')\n",
    "\n",
    "plt.plot(num_est, f1_score_list, label = 'f1 score')\n",
    "plt.plot(num_est, accuracy, label = 'accuracy')\n",
    "plt.legend()\n",
    "#plt.plot(np.linspace(0., 1., 49), np.linspace(0., 1., 49))\n",
    "plt.show()"
   ]
  },
  {
   "cell_type": "code",
   "execution_count": null,
   "metadata": {},
   "outputs": [],
   "source": [
    "#Baggin for trees\n",
    "\n",
    "f1_score_list_tree = []\n",
    "accuracy_tree = []\n",
    "num_est = np.linspace(2, 50, 49)\n",
    "\n",
    "# Used estimator\n",
    "best_tree = DecisionTreeClassifier(criterion='gini', splitter='best', max_depth = 38)\n",
    "\n",
    "for x in num_est:\n",
    "    k = int(x)\n",
    "    bagg = BaggingClassifier(base_estimator=best_tree, n_estimators=k, max_samples=1.0)\n",
    "    bagg.fit(X_train_scaled, y_train_scaled)\n",
    "    y_pred_bagg = bagg.predict(X_test_scaled)\n",
    "    f1_score_list_tree.append(f1_score(y_pred_bagg, y_test_scaled, average='macro'))\n",
    "    accuracy_tree.append(bagg.score(X_test_scaled, y_test_scaled)) "
   ]
  },
  {
   "cell_type": "code",
   "execution_count": null,
   "metadata": {},
   "outputs": [],
   "source": [
    "# Plotting\n",
    "\n",
    "f = plt.figure(figsize = (8, 6))\n",
    "f.suptitle('Bagging for Trees')\n",
    "\n",
    "plt.plot(num_est, f1_score_list_tree, label = 'f1 score')\n",
    "plt.plot(num_est, accuracy_tree, label = 'accuracy')\n",
    "plt.legend()\n",
    "plt.show()"
   ]
  },
  {
   "cell_type": "markdown",
   "metadata": {},
   "source": [
    "#### Inside:\n",
    "\n",
    "1) Количество моделей, которое нужно использовать >= 20, после этого и f1_score, и accuracy выходят на некоторый уровень, вокруг которого просто флуктуирует с дальнейшем увеличением количеством алгоритмов.\n",
    "\n",
    "2) Параметры решающего дерева скорее всего можно было выбрать по-другому. Из-за того, что наши предсказания по всем алгоритмам усредняются, то глубину дерева можно было взять поменьше, чтобы а) сэкономить время б) деревья были бы ещё более независимы."
   ]
  },
  {
   "cell_type": "markdown",
   "metadata": {
    "nbgrader": {
     "grade": false,
     "grade_id": "cell-241b7691ab44cbfb",
     "locked": true,
     "schema_version": 2,
     "solution": false
    }
   },
   "source": [
    "#### 2.7. Random Forest.\n",
    "Теперь воспользуйтесь `sklearn`-реализацией алгоритма Random Forest. \n",
    "\n",
    "* Постройте аналогичные графики для него (изменяя число деревьев от 1 до 50). Остальные параметры можно оставить по умолчанию.\n",
    "\n",
    "* Проанализируйте полученные результаты. Каким получилось оптимальное число деревьев. Как оно соотносится с оптимальным числом деревьев и линейных моделей в bagging'е из предыдущего пункта?"
   ]
  },
  {
   "cell_type": "code",
   "execution_count": null,
   "metadata": {
    "nbgrader": {
     "grade": true,
     "grade_id": "cell-888755d0f3d91620",
     "locked": false,
     "points": 15,
     "schema_version": 2,
     "solution": true
    }
   },
   "outputs": [],
   "source": [
    "from sklearn.ensemble import RandomForestClassifier\n",
    "\n",
    "forest_res_f1 = []\n",
    "forest_res_accuracy = []\n",
    "num_trees = np.linspace(1, 50, 50)\n",
    "\n",
    "for x in num_trees:\n",
    "    k = int(x)\n",
    "    forest = RandomForestClassifier(n_estimators = k)\n",
    "    forest.fit(X_train_scaled, y_train_scaled)\n",
    "    y_pred_forest = forest.predict(X_test_scaled)\n",
    "    forest_res_f1.append(f1_score(y_pred_forest, y_test_scaled, average='macro'))\n",
    "    forest_res_accuracy.append(forest.score(X_test_scaled, y_test_scaled))"
   ]
  },
  {
   "cell_type": "code",
   "execution_count": null,
   "metadata": {},
   "outputs": [],
   "source": [
    "# Plotting\n",
    "\n",
    "f = plt.figure(figsize = (8, 6))\n",
    "f.suptitle('Random Forest')\n",
    "\n",
    "plt.plot(num_trees, forest_res_f1, label = 'f1 score')\n",
    "plt.plot(num_trees, forest_res_accuracy, label = 'accuracy')\n",
    "plt.legend()\n",
    "plt.show()"
   ]
  },
  {
   "cell_type": "markdown",
   "metadata": {},
   "source": [
    "#### Inside:\n",
    "\n",
    "1) Количество деревьев, которое нужно так же использовать >= 20. Поведения f1_score и accuracy схожи для bagging'a и для RandomForest.\n"
   ]
  },
  {
   "cell_type": "markdown",
   "metadata": {
    "nbgrader": {
     "grade": false,
     "grade_id": "cell-99191c0852538d4d",
     "locked": true,
     "schema_version": 2,
     "solution": false
    }
   },
   "source": [
    "#### 2.8. Кривая обучения.\n",
    "* Поделите обучающую выборку на 10 примерно равных частей. Обучите логистическую регрессию (с оптимальными параметрами), решающее дерево (аналогично), бэггинг над логистическими регрессиями и решающими деревьями (с выбранными параметрами) и RandomForest (из предыдущего пункта) на одной, двух, трех и т.д. частях.\n",
    "\n",
    "* Постройти график f1-score и accuracy на `train` и `test` датасетах в зависимости от размера обучающей выборки.\n",
    "\n",
    "* Проанализируйте полученный график. Можно ли сделать из него какие-либо выводы? Если да - кратко опишите их."
   ]
  },
  {
   "cell_type": "code",
   "execution_count": null,
   "metadata": {
    "nbgrader": {
     "grade": true,
     "grade_id": "cell-e39bc7e7dff61ff9",
     "locked": false,
     "points": 15,
     "schema_version": 2,
     "solution": true
    }
   },
   "outputs": [],
   "source": [
    "# YOUR CODE HERE"
   ]
  }
 ],
 "metadata": {
  "celltoolbar": "Create Assignment",
  "kernelspec": {
   "display_name": "Python 3",
   "language": "python",
   "name": "python3"
  },
  "language_info": {
   "codemirror_mode": {
    "name": "ipython",
    "version": 3
   },
   "file_extension": ".py",
   "mimetype": "text/x-python",
   "name": "python",
   "nbconvert_exporter": "python",
   "pygments_lexer": "ipython3",
   "version": "3.7.3"
  },
  "toc": {
   "base_numbering": 1,
   "nav_menu": {},
   "number_sections": false,
   "sideBar": true,
   "skip_h1_title": false,
   "title_cell": "Table of Contents",
   "title_sidebar": "Contents",
   "toc_cell": false,
   "toc_position": {},
   "toc_section_display": true,
   "toc_window_display": false
  }
 },
 "nbformat": 4,
 "nbformat_minor": 2
}
