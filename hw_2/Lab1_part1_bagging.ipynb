{
 "cells": [
  {
   "cell_type": "markdown",
   "metadata": {
    "nbgrader": {
     "grade": false,
     "grade_id": "cell-86e0de040aac317a",
     "locked": true,
     "schema_version": 2,
     "solution": false
    }
   },
   "source": [
    "# Лабораторная работа №1. \n",
    "\n",
    "Данная лабораторная работа состоит из нескольких блоков. В каждом блоке вам предлагается произвести некоторые манипуляции с данными и сделать некоторые выводы.\n",
    "* Задавать вопросы можно и нужно.\n",
    "* Списывать не нужно. Работы, которые были списаны обнуляются.\n",
    "* Блоки выполняются последовательно и оцениваются отдельно."
   ]
  },
  {
   "cell_type": "markdown",
   "metadata": {},
   "source": [
    "__Вторая часть задания про градиентный бустинг и третья про SVM ждут вас в соседних ноутбуках.__"
   ]
  },
  {
   "cell_type": "markdown",
   "metadata": {
    "nbgrader": {
     "grade": false,
     "grade_id": "cell-512ba712fc0fc065",
     "locked": true,
     "schema_version": 2,
     "solution": false
    }
   },
   "source": [
    "## Часть 1. Работа с моделями и ансамблями моделей в задачи классификации."
   ]
  },
  {
   "cell_type": "markdown",
   "metadata": {
    "nbgrader": {
     "grade": false,
     "grade_id": "cell-b656a4266174b009",
     "locked": true,
     "schema_version": 2,
     "solution": false
    }
   },
   "source": [
    "### 1. Чтение данных.\n",
    "Воспользуемся [датасетом](https://archive.ics.uci.edu/ml/datasets/Statlog+%28Vehicle+Silhouettes%29), в котором описываются различные автомобили. Будем решать задачу многоклассовой ($k=4$) классификации.\n",
    "Для удобства, датасет уже преобразован в удобный формат."
   ]
  },
  {
   "cell_type": "code",
   "execution_count": 1,
   "metadata": {
    "nbgrader": {
     "grade": false,
     "grade_id": "cell-eebac6bfdf73d0bc",
     "locked": true,
     "schema_version": 2,
     "solution": false
    }
   },
   "outputs": [
    {
     "name": "stdout",
     "output_type": "stream",
     "text": [
      "(846, 19) (846,)\n",
      "(549, 19) (549,) (297, 19) (297,)\n"
     ]
    }
   ],
   "source": [
    "import pandas as pd\n",
    "import numpy as np\n",
    "from sklearn.model_selection import train_test_split\n",
    "\n",
    "dataset = pd.read_csv('car_data.csv', delimiter=',', header=None).values\n",
    "data = dataset[:, :-1].astype(int)\n",
    "target = dataset[:, -1]\n",
    "\n",
    "print(data.shape, target.shape)\n",
    "\n",
    "X_train, X_test, y_train, y_test = train_test_split(data, target, test_size=0.35)\n",
    "print(X_train.shape, y_train.shape, X_test.shape, y_test.shape)"
   ]
  },
  {
   "cell_type": "markdown",
   "metadata": {
    "nbgrader": {
     "grade": false,
     "grade_id": "cell-88b1a0f688568f2c",
     "locked": true,
     "schema_version": 2,
     "solution": false
    }
   },
   "source": [
    "Для первичного анализа может быть полезна библиотека `pandas`. Преобразуем `train` выборку в `pd.DataFrame`."
   ]
  },
  {
   "cell_type": "code",
   "execution_count": 2,
   "metadata": {},
   "outputs": [
    {
     "data": {
      "text/html": [
       "<div>\n",
       "<style scoped>\n",
       "    .dataframe tbody tr th:only-of-type {\n",
       "        vertical-align: middle;\n",
       "    }\n",
       "\n",
       "    .dataframe tbody tr th {\n",
       "        vertical-align: top;\n",
       "    }\n",
       "\n",
       "    .dataframe thead th {\n",
       "        text-align: right;\n",
       "    }\n",
       "</style>\n",
       "<table border=\"1\" class=\"dataframe\">\n",
       "  <thead>\n",
       "    <tr style=\"text-align: right;\">\n",
       "      <th></th>\n",
       "      <th>0</th>\n",
       "      <th>1</th>\n",
       "      <th>2</th>\n",
       "      <th>3</th>\n",
       "      <th>4</th>\n",
       "      <th>5</th>\n",
       "      <th>6</th>\n",
       "      <th>7</th>\n",
       "      <th>8</th>\n",
       "      <th>9</th>\n",
       "      <th>10</th>\n",
       "      <th>11</th>\n",
       "      <th>12</th>\n",
       "      <th>13</th>\n",
       "      <th>14</th>\n",
       "      <th>15</th>\n",
       "      <th>16</th>\n",
       "      <th>17</th>\n",
       "      <th>18</th>\n",
       "    </tr>\n",
       "  </thead>\n",
       "  <tbody>\n",
       "    <tr>\n",
       "      <th>0</th>\n",
       "      <td>174</td>\n",
       "      <td>93</td>\n",
       "      <td>48</td>\n",
       "      <td>84</td>\n",
       "      <td>150</td>\n",
       "      <td>63</td>\n",
       "      <td>11</td>\n",
       "      <td>156</td>\n",
       "      <td>44</td>\n",
       "      <td>20</td>\n",
       "      <td>165</td>\n",
       "      <td>171</td>\n",
       "      <td>354</td>\n",
       "      <td>188</td>\n",
       "      <td>73</td>\n",
       "      <td>8</td>\n",
       "      <td>15</td>\n",
       "      <td>185</td>\n",
       "      <td>195</td>\n",
       "    </tr>\n",
       "    <tr>\n",
       "      <th>1</th>\n",
       "      <td>66</td>\n",
       "      <td>81</td>\n",
       "      <td>43</td>\n",
       "      <td>68</td>\n",
       "      <td>125</td>\n",
       "      <td>57</td>\n",
       "      <td>8</td>\n",
       "      <td>149</td>\n",
       "      <td>46</td>\n",
       "      <td>19</td>\n",
       "      <td>146</td>\n",
       "      <td>169</td>\n",
       "      <td>323</td>\n",
       "      <td>172</td>\n",
       "      <td>83</td>\n",
       "      <td>6</td>\n",
       "      <td>18</td>\n",
       "      <td>179</td>\n",
       "      <td>184</td>\n",
       "    </tr>\n",
       "    <tr>\n",
       "      <th>2</th>\n",
       "      <td>466</td>\n",
       "      <td>78</td>\n",
       "      <td>43</td>\n",
       "      <td>70</td>\n",
       "      <td>147</td>\n",
       "      <td>65</td>\n",
       "      <td>8</td>\n",
       "      <td>147</td>\n",
       "      <td>46</td>\n",
       "      <td>19</td>\n",
       "      <td>145</td>\n",
       "      <td>169</td>\n",
       "      <td>319</td>\n",
       "      <td>168</td>\n",
       "      <td>77</td>\n",
       "      <td>1</td>\n",
       "      <td>12</td>\n",
       "      <td>181</td>\n",
       "      <td>186</td>\n",
       "    </tr>\n",
       "    <tr>\n",
       "      <th>3</th>\n",
       "      <td>502</td>\n",
       "      <td>86</td>\n",
       "      <td>36</td>\n",
       "      <td>66</td>\n",
       "      <td>128</td>\n",
       "      <td>57</td>\n",
       "      <td>8</td>\n",
       "      <td>131</td>\n",
       "      <td>52</td>\n",
       "      <td>18</td>\n",
       "      <td>127</td>\n",
       "      <td>148</td>\n",
       "      <td>252</td>\n",
       "      <td>139</td>\n",
       "      <td>76</td>\n",
       "      <td>5</td>\n",
       "      <td>27</td>\n",
       "      <td>183</td>\n",
       "      <td>187</td>\n",
       "    </tr>\n",
       "    <tr>\n",
       "      <th>4</th>\n",
       "      <td>831</td>\n",
       "      <td>100</td>\n",
       "      <td>47</td>\n",
       "      <td>70</td>\n",
       "      <td>185</td>\n",
       "      <td>70</td>\n",
       "      <td>7</td>\n",
       "      <td>162</td>\n",
       "      <td>40</td>\n",
       "      <td>20</td>\n",
       "      <td>153</td>\n",
       "      <td>179</td>\n",
       "      <td>406</td>\n",
       "      <td>172</td>\n",
       "      <td>68</td>\n",
       "      <td>9</td>\n",
       "      <td>6</td>\n",
       "      <td>200</td>\n",
       "      <td>205</td>\n",
       "    </tr>\n",
       "    <tr>\n",
       "      <th>5</th>\n",
       "      <td>352</td>\n",
       "      <td>91</td>\n",
       "      <td>46</td>\n",
       "      <td>78</td>\n",
       "      <td>148</td>\n",
       "      <td>61</td>\n",
       "      <td>9</td>\n",
       "      <td>147</td>\n",
       "      <td>45</td>\n",
       "      <td>19</td>\n",
       "      <td>152</td>\n",
       "      <td>168</td>\n",
       "      <td>323</td>\n",
       "      <td>199</td>\n",
       "      <td>70</td>\n",
       "      <td>13</td>\n",
       "      <td>11</td>\n",
       "      <td>189</td>\n",
       "      <td>200</td>\n",
       "    </tr>\n",
       "    <tr>\n",
       "      <th>6</th>\n",
       "      <td>484</td>\n",
       "      <td>90</td>\n",
       "      <td>48</td>\n",
       "      <td>78</td>\n",
       "      <td>143</td>\n",
       "      <td>60</td>\n",
       "      <td>11</td>\n",
       "      <td>161</td>\n",
       "      <td>43</td>\n",
       "      <td>20</td>\n",
       "      <td>159</td>\n",
       "      <td>172</td>\n",
       "      <td>374</td>\n",
       "      <td>186</td>\n",
       "      <td>75</td>\n",
       "      <td>2</td>\n",
       "      <td>2</td>\n",
       "      <td>184</td>\n",
       "      <td>193</td>\n",
       "    </tr>\n",
       "    <tr>\n",
       "      <th>7</th>\n",
       "      <td>557</td>\n",
       "      <td>86</td>\n",
       "      <td>40</td>\n",
       "      <td>66</td>\n",
       "      <td>138</td>\n",
       "      <td>59</td>\n",
       "      <td>4</td>\n",
       "      <td>137</td>\n",
       "      <td>49</td>\n",
       "      <td>18</td>\n",
       "      <td>133</td>\n",
       "      <td>162</td>\n",
       "      <td>279</td>\n",
       "      <td>151</td>\n",
       "      <td>74</td>\n",
       "      <td>6</td>\n",
       "      <td>14</td>\n",
       "      <td>186</td>\n",
       "      <td>190</td>\n",
       "    </tr>\n",
       "    <tr>\n",
       "      <th>8</th>\n",
       "      <td>127</td>\n",
       "      <td>85</td>\n",
       "      <td>41</td>\n",
       "      <td>66</td>\n",
       "      <td>155</td>\n",
       "      <td>65</td>\n",
       "      <td>22</td>\n",
       "      <td>149</td>\n",
       "      <td>45</td>\n",
       "      <td>19</td>\n",
       "      <td>139</td>\n",
       "      <td>173</td>\n",
       "      <td>330</td>\n",
       "      <td>155</td>\n",
       "      <td>75</td>\n",
       "      <td>6</td>\n",
       "      <td>16</td>\n",
       "      <td>184</td>\n",
       "      <td>191</td>\n",
       "    </tr>\n",
       "    <tr>\n",
       "      <th>9</th>\n",
       "      <td>833</td>\n",
       "      <td>92</td>\n",
       "      <td>46</td>\n",
       "      <td>83</td>\n",
       "      <td>154</td>\n",
       "      <td>56</td>\n",
       "      <td>6</td>\n",
       "      <td>160</td>\n",
       "      <td>41</td>\n",
       "      <td>20</td>\n",
       "      <td>148</td>\n",
       "      <td>185</td>\n",
       "      <td>382</td>\n",
       "      <td>184</td>\n",
       "      <td>71</td>\n",
       "      <td>10</td>\n",
       "      <td>5</td>\n",
       "      <td>186</td>\n",
       "      <td>191</td>\n",
       "    </tr>\n",
       "    <tr>\n",
       "      <th>10</th>\n",
       "      <td>249</td>\n",
       "      <td>85</td>\n",
       "      <td>34</td>\n",
       "      <td>53</td>\n",
       "      <td>127</td>\n",
       "      <td>58</td>\n",
       "      <td>6</td>\n",
       "      <td>116</td>\n",
       "      <td>58</td>\n",
       "      <td>17</td>\n",
       "      <td>121</td>\n",
       "      <td>137</td>\n",
       "      <td>197</td>\n",
       "      <td>127</td>\n",
       "      <td>70</td>\n",
       "      <td>3</td>\n",
       "      <td>20</td>\n",
       "      <td>185</td>\n",
       "      <td>189</td>\n",
       "    </tr>\n",
       "    <tr>\n",
       "      <th>11</th>\n",
       "      <td>461</td>\n",
       "      <td>106</td>\n",
       "      <td>52</td>\n",
       "      <td>107</td>\n",
       "      <td>211</td>\n",
       "      <td>62</td>\n",
       "      <td>8</td>\n",
       "      <td>200</td>\n",
       "      <td>33</td>\n",
       "      <td>23</td>\n",
       "      <td>161</td>\n",
       "      <td>218</td>\n",
       "      <td>602</td>\n",
       "      <td>200</td>\n",
       "      <td>67</td>\n",
       "      <td>9</td>\n",
       "      <td>17</td>\n",
       "      <td>194</td>\n",
       "      <td>201</td>\n",
       "    </tr>\n",
       "    <tr>\n",
       "      <th>12</th>\n",
       "      <td>511</td>\n",
       "      <td>88</td>\n",
       "      <td>38</td>\n",
       "      <td>77</td>\n",
       "      <td>156</td>\n",
       "      <td>56</td>\n",
       "      <td>7</td>\n",
       "      <td>163</td>\n",
       "      <td>41</td>\n",
       "      <td>20</td>\n",
       "      <td>129</td>\n",
       "      <td>184</td>\n",
       "      <td>395</td>\n",
       "      <td>140</td>\n",
       "      <td>67</td>\n",
       "      <td>1</td>\n",
       "      <td>9</td>\n",
       "      <td>192</td>\n",
       "      <td>198</td>\n",
       "    </tr>\n",
       "    <tr>\n",
       "      <th>13</th>\n",
       "      <td>406</td>\n",
       "      <td>80</td>\n",
       "      <td>38</td>\n",
       "      <td>64</td>\n",
       "      <td>130</td>\n",
       "      <td>59</td>\n",
       "      <td>8</td>\n",
       "      <td>134</td>\n",
       "      <td>51</td>\n",
       "      <td>18</td>\n",
       "      <td>126</td>\n",
       "      <td>152</td>\n",
       "      <td>259</td>\n",
       "      <td>135</td>\n",
       "      <td>76</td>\n",
       "      <td>1</td>\n",
       "      <td>23</td>\n",
       "      <td>179</td>\n",
       "      <td>188</td>\n",
       "    </tr>\n",
       "    <tr>\n",
       "      <th>14</th>\n",
       "      <td>363</td>\n",
       "      <td>89</td>\n",
       "      <td>47</td>\n",
       "      <td>85</td>\n",
       "      <td>147</td>\n",
       "      <td>58</td>\n",
       "      <td>10</td>\n",
       "      <td>153</td>\n",
       "      <td>44</td>\n",
       "      <td>19</td>\n",
       "      <td>151</td>\n",
       "      <td>175</td>\n",
       "      <td>349</td>\n",
       "      <td>186</td>\n",
       "      <td>74</td>\n",
       "      <td>13</td>\n",
       "      <td>7</td>\n",
       "      <td>186</td>\n",
       "      <td>197</td>\n",
       "    </tr>\n",
       "  </tbody>\n",
       "</table>\n",
       "</div>"
      ],
      "text/plain": [
       "     0    1   2    3    4   5   6    7   8   9    10   11   12   13  14  15  \\\n",
       "0   174   93  48   84  150  63  11  156  44  20  165  171  354  188  73   8   \n",
       "1    66   81  43   68  125  57   8  149  46  19  146  169  323  172  83   6   \n",
       "2   466   78  43   70  147  65   8  147  46  19  145  169  319  168  77   1   \n",
       "3   502   86  36   66  128  57   8  131  52  18  127  148  252  139  76   5   \n",
       "4   831  100  47   70  185  70   7  162  40  20  153  179  406  172  68   9   \n",
       "5   352   91  46   78  148  61   9  147  45  19  152  168  323  199  70  13   \n",
       "6   484   90  48   78  143  60  11  161  43  20  159  172  374  186  75   2   \n",
       "7   557   86  40   66  138  59   4  137  49  18  133  162  279  151  74   6   \n",
       "8   127   85  41   66  155  65  22  149  45  19  139  173  330  155  75   6   \n",
       "9   833   92  46   83  154  56   6  160  41  20  148  185  382  184  71  10   \n",
       "10  249   85  34   53  127  58   6  116  58  17  121  137  197  127  70   3   \n",
       "11  461  106  52  107  211  62   8  200  33  23  161  218  602  200  67   9   \n",
       "12  511   88  38   77  156  56   7  163  41  20  129  184  395  140  67   1   \n",
       "13  406   80  38   64  130  59   8  134  51  18  126  152  259  135  76   1   \n",
       "14  363   89  47   85  147  58  10  153  44  19  151  175  349  186  74  13   \n",
       "\n",
       "    16   17   18  \n",
       "0   15  185  195  \n",
       "1   18  179  184  \n",
       "2   12  181  186  \n",
       "3   27  183  187  \n",
       "4    6  200  205  \n",
       "5   11  189  200  \n",
       "6    2  184  193  \n",
       "7   14  186  190  \n",
       "8   16  184  191  \n",
       "9    5  186  191  \n",
       "10  20  185  189  \n",
       "11  17  194  201  \n",
       "12   9  192  198  \n",
       "13  23  179  188  \n",
       "14   7  186  197  "
      ]
     },
     "execution_count": 2,
     "metadata": {},
     "output_type": "execute_result"
    }
   ],
   "source": [
    "X_train_pd = pd.DataFrame(X_train)\n",
    "\n",
    "# First 15 rows of our dataset.\n",
    "X_train_pd.head(15)"
   ]
  },
  {
   "cell_type": "markdown",
   "metadata": {
    "nbgrader": {
     "grade": false,
     "grade_id": "cell-98e7d91d77d65fcf",
     "locked": true,
     "schema_version": 2,
     "solution": false
    }
   },
   "source": [
    "Воспользовавшись методами `describe` и `info` можно получить полезную информацию о датасете."
   ]
  },
  {
   "cell_type": "code",
   "execution_count": 3,
   "metadata": {},
   "outputs": [
    {
     "data": {
      "text/html": [
       "<div>\n",
       "<style scoped>\n",
       "    .dataframe tbody tr th:only-of-type {\n",
       "        vertical-align: middle;\n",
       "    }\n",
       "\n",
       "    .dataframe tbody tr th {\n",
       "        vertical-align: top;\n",
       "    }\n",
       "\n",
       "    .dataframe thead th {\n",
       "        text-align: right;\n",
       "    }\n",
       "</style>\n",
       "<table border=\"1\" class=\"dataframe\">\n",
       "  <thead>\n",
       "    <tr style=\"text-align: right;\">\n",
       "      <th></th>\n",
       "      <th>0</th>\n",
       "      <th>1</th>\n",
       "      <th>2</th>\n",
       "      <th>3</th>\n",
       "      <th>4</th>\n",
       "      <th>5</th>\n",
       "      <th>6</th>\n",
       "      <th>7</th>\n",
       "      <th>8</th>\n",
       "      <th>9</th>\n",
       "      <th>10</th>\n",
       "      <th>11</th>\n",
       "      <th>12</th>\n",
       "      <th>13</th>\n",
       "      <th>14</th>\n",
       "      <th>15</th>\n",
       "      <th>16</th>\n",
       "      <th>17</th>\n",
       "      <th>18</th>\n",
       "    </tr>\n",
       "  </thead>\n",
       "  <tbody>\n",
       "    <tr>\n",
       "      <th>count</th>\n",
       "      <td>549.000000</td>\n",
       "      <td>549.000000</td>\n",
       "      <td>549.000000</td>\n",
       "      <td>549.000000</td>\n",
       "      <td>549.000000</td>\n",
       "      <td>549.000000</td>\n",
       "      <td>549.000000</td>\n",
       "      <td>549.000000</td>\n",
       "      <td>549.000000</td>\n",
       "      <td>549.000000</td>\n",
       "      <td>549.000000</td>\n",
       "      <td>549.000000</td>\n",
       "      <td>549.000000</td>\n",
       "      <td>549.000000</td>\n",
       "      <td>549.000000</td>\n",
       "      <td>549.000000</td>\n",
       "      <td>549.000000</td>\n",
       "      <td>549.000000</td>\n",
       "      <td>549.000000</td>\n",
       "    </tr>\n",
       "    <tr>\n",
       "      <th>mean</th>\n",
       "      <td>414.156648</td>\n",
       "      <td>93.608379</td>\n",
       "      <td>44.905282</td>\n",
       "      <td>81.814208</td>\n",
       "      <td>168.808743</td>\n",
       "      <td>61.806922</td>\n",
       "      <td>8.526412</td>\n",
       "      <td>168.744991</td>\n",
       "      <td>40.932605</td>\n",
       "      <td>20.573770</td>\n",
       "      <td>148.032787</td>\n",
       "      <td>188.715847</td>\n",
       "      <td>439.795993</td>\n",
       "      <td>175.143898</td>\n",
       "      <td>72.533698</td>\n",
       "      <td>6.586521</td>\n",
       "      <td>12.462659</td>\n",
       "      <td>188.967213</td>\n",
       "      <td>195.464481</td>\n",
       "    </tr>\n",
       "    <tr>\n",
       "      <th>std</th>\n",
       "      <td>249.443090</td>\n",
       "      <td>8.198807</td>\n",
       "      <td>6.009584</td>\n",
       "      <td>15.615770</td>\n",
       "      <td>32.916587</td>\n",
       "      <td>7.814867</td>\n",
       "      <td>4.931810</td>\n",
       "      <td>33.319464</td>\n",
       "      <td>7.792766</td>\n",
       "      <td>2.615319</td>\n",
       "      <td>14.214173</td>\n",
       "      <td>31.344323</td>\n",
       "      <td>177.827323</td>\n",
       "      <td>31.771700</td>\n",
       "      <td>7.324171</td>\n",
       "      <td>4.936668</td>\n",
       "      <td>8.772519</td>\n",
       "      <td>6.186489</td>\n",
       "      <td>7.440096</td>\n",
       "    </tr>\n",
       "    <tr>\n",
       "      <th>min</th>\n",
       "      <td>1.000000</td>\n",
       "      <td>76.000000</td>\n",
       "      <td>33.000000</td>\n",
       "      <td>40.000000</td>\n",
       "      <td>104.000000</td>\n",
       "      <td>47.000000</td>\n",
       "      <td>3.000000</td>\n",
       "      <td>112.000000</td>\n",
       "      <td>26.000000</td>\n",
       "      <td>17.000000</td>\n",
       "      <td>118.000000</td>\n",
       "      <td>130.000000</td>\n",
       "      <td>184.000000</td>\n",
       "      <td>113.000000</td>\n",
       "      <td>59.000000</td>\n",
       "      <td>0.000000</td>\n",
       "      <td>0.000000</td>\n",
       "      <td>176.000000</td>\n",
       "      <td>181.000000</td>\n",
       "    </tr>\n",
       "    <tr>\n",
       "      <th>25%</th>\n",
       "      <td>199.000000</td>\n",
       "      <td>87.000000</td>\n",
       "      <td>40.000000</td>\n",
       "      <td>70.000000</td>\n",
       "      <td>141.000000</td>\n",
       "      <td>57.000000</td>\n",
       "      <td>6.000000</td>\n",
       "      <td>147.000000</td>\n",
       "      <td>34.000000</td>\n",
       "      <td>19.000000</td>\n",
       "      <td>138.000000</td>\n",
       "      <td>168.000000</td>\n",
       "      <td>319.000000</td>\n",
       "      <td>151.000000</td>\n",
       "      <td>67.000000</td>\n",
       "      <td>3.000000</td>\n",
       "      <td>5.000000</td>\n",
       "      <td>184.000000</td>\n",
       "      <td>190.000000</td>\n",
       "    </tr>\n",
       "    <tr>\n",
       "      <th>50%</th>\n",
       "      <td>405.000000</td>\n",
       "      <td>93.000000</td>\n",
       "      <td>44.000000</td>\n",
       "      <td>80.000000</td>\n",
       "      <td>167.000000</td>\n",
       "      <td>61.000000</td>\n",
       "      <td>8.000000</td>\n",
       "      <td>157.000000</td>\n",
       "      <td>43.000000</td>\n",
       "      <td>20.000000</td>\n",
       "      <td>146.000000</td>\n",
       "      <td>179.000000</td>\n",
       "      <td>365.000000</td>\n",
       "      <td>174.000000</td>\n",
       "      <td>71.000000</td>\n",
       "      <td>6.000000</td>\n",
       "      <td>11.000000</td>\n",
       "      <td>189.000000</td>\n",
       "      <td>196.000000</td>\n",
       "    </tr>\n",
       "    <tr>\n",
       "      <th>75%</th>\n",
       "      <td>632.000000</td>\n",
       "      <td>100.000000</td>\n",
       "      <td>49.000000</td>\n",
       "      <td>96.000000</td>\n",
       "      <td>194.000000</td>\n",
       "      <td>65.000000</td>\n",
       "      <td>10.000000</td>\n",
       "      <td>196.000000</td>\n",
       "      <td>46.000000</td>\n",
       "      <td>23.000000</td>\n",
       "      <td>159.000000</td>\n",
       "      <td>215.000000</td>\n",
       "      <td>576.000000</td>\n",
       "      <td>195.000000</td>\n",
       "      <td>76.000000</td>\n",
       "      <td>9.000000</td>\n",
       "      <td>18.000000</td>\n",
       "      <td>193.000000</td>\n",
       "      <td>201.000000</td>\n",
       "    </tr>\n",
       "    <tr>\n",
       "      <th>max</th>\n",
       "      <td>845.000000</td>\n",
       "      <td>117.000000</td>\n",
       "      <td>59.000000</td>\n",
       "      <td>110.000000</td>\n",
       "      <td>322.000000</td>\n",
       "      <td>133.000000</td>\n",
       "      <td>55.000000</td>\n",
       "      <td>265.000000</td>\n",
       "      <td>61.000000</td>\n",
       "      <td>29.000000</td>\n",
       "      <td>188.000000</td>\n",
       "      <td>288.000000</td>\n",
       "      <td>1018.000000</td>\n",
       "      <td>268.000000</td>\n",
       "      <td>127.000000</td>\n",
       "      <td>22.000000</td>\n",
       "      <td>41.000000</td>\n",
       "      <td>206.000000</td>\n",
       "      <td>211.000000</td>\n",
       "    </tr>\n",
       "  </tbody>\n",
       "</table>\n",
       "</div>"
      ],
      "text/plain": [
       "               0           1           2           3           4           5   \\\n",
       "count  549.000000  549.000000  549.000000  549.000000  549.000000  549.000000   \n",
       "mean   414.156648   93.608379   44.905282   81.814208  168.808743   61.806922   \n",
       "std    249.443090    8.198807    6.009584   15.615770   32.916587    7.814867   \n",
       "min      1.000000   76.000000   33.000000   40.000000  104.000000   47.000000   \n",
       "25%    199.000000   87.000000   40.000000   70.000000  141.000000   57.000000   \n",
       "50%    405.000000   93.000000   44.000000   80.000000  167.000000   61.000000   \n",
       "75%    632.000000  100.000000   49.000000   96.000000  194.000000   65.000000   \n",
       "max    845.000000  117.000000   59.000000  110.000000  322.000000  133.000000   \n",
       "\n",
       "               6           7           8           9           10          11  \\\n",
       "count  549.000000  549.000000  549.000000  549.000000  549.000000  549.000000   \n",
       "mean     8.526412  168.744991   40.932605   20.573770  148.032787  188.715847   \n",
       "std      4.931810   33.319464    7.792766    2.615319   14.214173   31.344323   \n",
       "min      3.000000  112.000000   26.000000   17.000000  118.000000  130.000000   \n",
       "25%      6.000000  147.000000   34.000000   19.000000  138.000000  168.000000   \n",
       "50%      8.000000  157.000000   43.000000   20.000000  146.000000  179.000000   \n",
       "75%     10.000000  196.000000   46.000000   23.000000  159.000000  215.000000   \n",
       "max     55.000000  265.000000   61.000000   29.000000  188.000000  288.000000   \n",
       "\n",
       "                12          13          14          15          16  \\\n",
       "count   549.000000  549.000000  549.000000  549.000000  549.000000   \n",
       "mean    439.795993  175.143898   72.533698    6.586521   12.462659   \n",
       "std     177.827323   31.771700    7.324171    4.936668    8.772519   \n",
       "min     184.000000  113.000000   59.000000    0.000000    0.000000   \n",
       "25%     319.000000  151.000000   67.000000    3.000000    5.000000   \n",
       "50%     365.000000  174.000000   71.000000    6.000000   11.000000   \n",
       "75%     576.000000  195.000000   76.000000    9.000000   18.000000   \n",
       "max    1018.000000  268.000000  127.000000   22.000000   41.000000   \n",
       "\n",
       "               17          18  \n",
       "count  549.000000  549.000000  \n",
       "mean   188.967213  195.464481  \n",
       "std      6.186489    7.440096  \n",
       "min    176.000000  181.000000  \n",
       "25%    184.000000  190.000000  \n",
       "50%    189.000000  196.000000  \n",
       "75%    193.000000  201.000000  \n",
       "max    206.000000  211.000000  "
      ]
     },
     "execution_count": 3,
     "metadata": {},
     "output_type": "execute_result"
    }
   ],
   "source": [
    "X_train_pd.describe()"
   ]
  },
  {
   "cell_type": "code",
   "execution_count": 4,
   "metadata": {},
   "outputs": [
    {
     "name": "stdout",
     "output_type": "stream",
     "text": [
      "<class 'pandas.core.frame.DataFrame'>\n",
      "RangeIndex: 549 entries, 0 to 548\n",
      "Data columns (total 19 columns):\n",
      "0     549 non-null int32\n",
      "1     549 non-null int32\n",
      "2     549 non-null int32\n",
      "3     549 non-null int32\n",
      "4     549 non-null int32\n",
      "5     549 non-null int32\n",
      "6     549 non-null int32\n",
      "7     549 non-null int32\n",
      "8     549 non-null int32\n",
      "9     549 non-null int32\n",
      "10    549 non-null int32\n",
      "11    549 non-null int32\n",
      "12    549 non-null int32\n",
      "13    549 non-null int32\n",
      "14    549 non-null int32\n",
      "15    549 non-null int32\n",
      "16    549 non-null int32\n",
      "17    549 non-null int32\n",
      "18    549 non-null int32\n",
      "dtypes: int32(19)\n",
      "memory usage: 40.8 KB\n"
     ]
    }
   ],
   "source": [
    "X_train_pd.info()"
   ]
  },
  {
   "cell_type": "code",
   "execution_count": 5,
   "metadata": {},
   "outputs": [
    {
     "name": "stdout",
     "output_type": "stream",
     "text": [
      "['van' 'bus' 'bus' 'opel' 'bus' 'van' 'van' 'saab' 'bus' 'saab' 'saab'\n",
      " 'opel' 'opel' 'opel' 'van' 'bus' 'bus' 'van' 'opel' 'saab' 'bus' 'opel'\n",
      " 'bus' 'bus' 'van' 'van' 'bus' 'van' 'van' 'bus' 'bus' 'van' 'opel' 'saab'\n",
      " 'van' 'bus' 'van' 'van' 'opel' 'opel' 'saab' 'bus' 'saab' 'bus' 'bus'\n",
      " 'van' 'saab' 'van' 'bus' 'bus' 'bus' 'bus' 'van' 'saab' 'van' 'bus'\n",
      " 'opel' 'saab' 'saab' 'bus' 'van' 'saab' 'saab' 'saab' 'bus' 'opel' 'opel'\n",
      " 'van' 'bus' 'opel' 'van' 'opel' 'opel' 'opel' 'van' 'saab' 'opel' 'saab'\n",
      " 'bus' 'van' 'bus' 'van' 'opel' 'opel' 'opel' 'bus' 'saab' 'van' 'bus'\n",
      " 'saab' 'bus' 'saab' 'bus' 'bus' 'bus' 'bus' 'van' 'opel' 'bus' 'saab'\n",
      " 'opel' 'van' 'van' 'bus' 'opel' 'opel' 'saab' 'opel' 'bus' 'bus' 'van'\n",
      " 'saab' 'opel' 'van' 'opel' 'opel' 'saab' 'saab' 'saab' 'saab' 'bus' 'bus'\n",
      " 'opel' 'opel' 'van' 'saab' 'van' 'opel' 'van' 'saab' 'bus' 'van' 'saab'\n",
      " 'bus' 'saab' 'bus' 'opel' 'bus' 'bus' 'bus' 'saab' 'saab' 'saab' 'bus'\n",
      " 'saab' 'bus' 'saab' 'saab' 'saab' 'opel' 'opel' 'bus' 'bus' 'bus' 'van'\n",
      " 'van' 'bus' 'van' 'bus' 'bus' 'saab' 'van' 'van' 'van' 'saab' 'van'\n",
      " 'saab' 'opel' 'bus' 'opel' 'saab' 'van' 'opel' 'saab' 'opel' 'van' 'bus'\n",
      " 'van' 'van' 'opel' 'opel' 'van' 'saab' 'saab' 'saab' 'opel' 'van' 'van'\n",
      " 'bus' 'bus' 'van' 'van' 'opel' 'van' 'opel' 'opel' 'saab' 'opel' 'van'\n",
      " 'van' 'saab' 'bus' 'van' 'bus' 'opel' 'opel' 'van' 'bus' 'van' 'van'\n",
      " 'bus' 'van' 'van' 'opel' 'saab' 'saab' 'saab' 'saab' 'bus' 'van' 'saab'\n",
      " 'saab' 'opel' 'saab' 'bus' 'opel' 'bus' 'van' 'saab' 'van' 'saab' 'opel'\n",
      " 'van' 'opel' 'van' 'bus' 'opel' 'bus' 'bus' 'opel' 'saab' 'bus' 'saab'\n",
      " 'bus' 'bus' 'van' 'van' 'bus' 'opel' 'van' 'bus' 'saab' 'saab' 'bus'\n",
      " 'saab' 'saab' 'bus' 'van' 'bus' 'bus' 'saab' 'saab' 'opel' 'saab' 'opel'\n",
      " 'bus' 'opel' 'van' 'bus' 'van' 'van' 'van' 'opel' 'van' 'saab' 'bus'\n",
      " 'opel' 'van' 'saab' 'opel' 'saab' 'bus' 'bus' 'van' 'saab' 'bus' 'bus'\n",
      " 'opel' 'saab' 'opel' 'saab' 'opel' 'saab' 'bus' 'bus' 'opel' 'bus' 'saab'\n",
      " 'bus' 'van' 'bus' 'bus' 'bus' 'opel' 'saab' 'van' 'van' 'opel' 'opel'\n",
      " 'bus' 'opel' 'van' 'bus' 'bus' 'van' 'bus' 'saab' 'saab' 'saab' 'opel'\n",
      " 'bus' 'opel' 'saab' 'van' 'bus' 'opel' 'bus' 'bus' 'opel' 'opel' 'van'\n",
      " 'van' 'bus' 'van' 'bus' 'bus' 'van' 'opel' 'saab' 'van' 'opel' 'van'\n",
      " 'opel' 'bus' 'saab' 'bus' 'saab' 'saab' 'van' 'van' 'opel' 'opel' 'saab'\n",
      " 'opel' 'opel' 'opel' 'van' 'opel' 'opel' 'bus' 'saab' 'opel' 'bus' 'opel'\n",
      " 'van' 'opel' 'saab' 'opel' 'saab' 'van' 'opel' 'saab' 'opel' 'bus' 'opel'\n",
      " 'opel' 'saab' 'bus' 'bus' 'bus' 'opel' 'van' 'saab' 'opel' 'saab' 'opel'\n",
      " 'saab' 'saab' 'bus' 'bus' 'bus' 'saab' 'opel' 'saab' 'van' 'van' 'opel'\n",
      " 'saab' 'bus' 'van' 'bus' 'saab' 'saab' 'bus' 'saab' 'opel' 'van' 'saab'\n",
      " 'bus' 'opel' 'saab' 'opel' 'bus' 'opel' 'opel' 'opel' 'van' 'bus' 'van'\n",
      " 'opel' 'van' 'opel' 'saab' 'van' 'bus' 'bus' 'bus' 'bus' 'van' 'opel'\n",
      " 'opel' 'bus' 'bus' 'saab' 'saab' 'van' 'saab' 'van' 'saab' 'bus' 'opel'\n",
      " 'van' 'bus' 'opel' 'bus' 'van' 'van' 'bus' 'saab' 'van' 'saab' 'bus'\n",
      " 'saab' 'van' 'bus' 'saab' 'opel' 'van' 'saab' 'bus' 'saab' 'van' 'van'\n",
      " 'saab' 'van' 'saab' 'saab' 'van' 'bus' 'van' 'saab' 'bus' 'saab' 'bus'\n",
      " 'opel' 'van' 'bus' 'saab' 'saab' 'bus' 'opel' 'van' 'opel' 'opel' 'bus'\n",
      " 'saab' 'bus' 'van' 'opel' 'bus' 'opel' 'bus' 'van' 'opel' 'saab' 'bus'\n",
      " 'bus' 'bus' 'bus' 'van' 'bus' 'bus' 'van' 'bus' 'bus' 'bus' 'opel' 'opel'\n",
      " 'saab' 'van' 'opel' 'saab' 'saab' 'saab' 'opel' 'opel' 'bus' 'opel'\n",
      " 'opel' 'saab' 'van' 'saab' 'saab' 'saab' 'bus' 'bus' 'saab' 'bus' 'opel'\n",
      " 'bus' 'van' 'saab' 'opel' 'van' 'saab' 'saab' 'opel' 'van' 'saab' 'bus'\n",
      " 'saab' 'opel' 'bus' 'opel' 'saab' 'van' 'bus' 'opel' 'saab']\n"
     ]
    }
   ],
   "source": [
    "print(y_train)"
   ]
  },
  {
   "cell_type": "markdown",
   "metadata": {
    "nbgrader": {
     "grade": false,
     "grade_id": "cell-be844269be69c387",
     "locked": true,
     "schema_version": 2,
     "solution": false
    }
   },
   "source": [
    "### 2. Работа с данными, построение модели, анализ ошибки.\n",
    "Выполните следующие манипуляции с данными:"
   ]
  },
  {
   "cell_type": "markdown",
   "metadata": {},
   "source": [
    "#### 2.0. Предобработка данных.\n",
    "* Произведите необходимые (по вашему мнению) манипуляции с данными и объясните их."
   ]
  },
  {
   "cell_type": "code",
   "execution_count": 6,
   "metadata": {},
   "outputs": [],
   "source": [
    "# Importing SKlearn magic\n",
    "\n",
    "from sklearn.model_selection import train_test_split\n",
    "from sklearn.linear_model import LogisticRegression\n",
    "from sklearn.metrics import f1_score, accuracy_score\n",
    "from sklearn import preprocessing\n",
    "from sklearn.ensemble import RandomForestClassifier\n",
    "from sklearn.model_selection import GridSearchCV"
   ]
  },
  {
   "cell_type": "code",
   "execution_count": 7,
   "metadata": {},
   "outputs": [],
   "source": [
    "# Подправим y_train, y_test так, чтобы там были цифры (на всякий случай)\n",
    "\n",
    "y_train_scaled = []\n",
    "y_test_scaled = []\n",
    "\n",
    "for string in y_train:\n",
    "    if string == 'opel':\n",
    "        y_train_scaled.append(1)\n",
    "    elif string == 'saab':\n",
    "        y_train_scaled.append(2)\n",
    "    elif string == 'bus':\n",
    "        y_train_scaled.append(3)\n",
    "    else:\n",
    "        y_train_scaled.append(4)\n",
    "        \n",
    "for string in y_test:\n",
    "    if string == 'opel':\n",
    "        y_test_scaled.append(1)\n",
    "    elif string == 'saab':\n",
    "        y_test_scaled.append(2)\n",
    "    elif string == 'bus':\n",
    "        y_test_scaled.append(3)\n",
    "    else:\n",
    "        y_test_scaled.append(4)\n"
   ]
  },
  {
   "cell_type": "code",
   "execution_count": 14,
   "metadata": {
    "nbgrader": {
     "grade": true,
     "grade_id": "cell-a1514aa189a49fca",
     "locked": false,
     "points": 15,
     "schema_version": 2,
     "solution": true
    }
   },
   "outputs": [
    {
     "name": "stderr",
     "output_type": "stream",
     "text": [
      "D:\\Anaconda\\lib\\site-packages\\sklearn\\utils\\validation.py:595: DataConversionWarning: Data with input dtype int32 was converted to float64 by StandardScaler.\n",
      "  warnings.warn(msg, DataConversionWarning)\n",
      "D:\\Anaconda\\lib\\site-packages\\sklearn\\utils\\validation.py:595: DataConversionWarning: Data with input dtype int32 was converted to float64 by StandardScaler.\n",
      "  warnings.warn(msg, DataConversionWarning)\n",
      "D:\\Anaconda\\lib\\site-packages\\sklearn\\utils\\validation.py:595: DataConversionWarning: Data with input dtype int32 was converted to float64 by StandardScaler.\n",
      "  warnings.warn(msg, DataConversionWarning)\n",
      "D:\\Anaconda\\lib\\site-packages\\sklearn\\utils\\validation.py:595: DataConversionWarning: Data with input dtype int32 was converted to float64 by StandardScaler.\n",
      "  warnings.warn(msg, DataConversionWarning)\n"
     ]
    }
   ],
   "source": [
    "# Препроцессим данные, потому что мы не пользуемся KNN, также мы не знаем корреляции\n",
    "# поэтому нам в любом случае придётся применить регуляризацию\n",
    "\n",
    "scaler = preprocessing.StandardScaler()\n",
    "X_train_scaled = scaler.fit_transform(X_train)\n",
    "X_test_scaled = scaler.fit_transform(X_test)"
   ]
  },
  {
   "cell_type": "code",
   "execution_count": 103,
   "metadata": {},
   "outputs": [],
   "source": [
    "#print(X_train_scaled)"
   ]
  },
  {
   "cell_type": "markdown",
   "metadata": {},
   "source": [
    "#### 2.1. Базовая логистическая регрессия.\n",
    "* Подберите оптимальные параметры логистической регресии с помощью кросс-валидации на train-датасете (не переусердствуйте с подбором, в данной работе не стоит задача найти самую оптимальную модель. Небольшого grid/random search'а хватит).\n",
    "\n",
    "* Постройте график ROC-кривой для данного классификатора (`sklearn.metrics.roc_curve`), оцените точность классификации и f1-score. "
   ]
  },
  {
   "cell_type": "code",
   "execution_count": 16,
   "metadata": {
    "nbgrader": {
     "grade": true,
     "grade_id": "cell-1dd5ad5d0845cbbb",
     "locked": false,
     "points": 5,
     "schema_version": 2,
     "solution": true
    }
   },
   "outputs": [],
   "source": [
    "lr_clf = LogisticRegression(multi_class = 'multinomial', max_iter = 20000, solver = 'saga', tol = 0.00001)"
   ]
  },
  {
   "cell_type": "code",
   "execution_count": 17,
   "metadata": {},
   "outputs": [],
   "source": [
    "parametrs = {'C':[5.0, 10., 12.], 'penalty':['l1', 'l2']}"
   ]
  },
  {
   "cell_type": "code",
   "execution_count": 18,
   "metadata": {},
   "outputs": [
    {
     "name": "stderr",
     "output_type": "stream",
     "text": [
      "D:\\Anaconda\\lib\\site-packages\\sklearn\\model_selection\\_search.py:841: DeprecationWarning: The default of the `iid` parameter will change from True to False in version 0.22 and will be removed in 0.24. This will change numeric results when test-set sizes are unequal.\n",
      "  DeprecationWarning)\n"
     ]
    },
    {
     "data": {
      "text/plain": [
       "GridSearchCV(cv=5, error_score='raise-deprecating',\n",
       "       estimator=LogisticRegression(C=1.0, class_weight=None, dual=False, fit_intercept=True,\n",
       "          intercept_scaling=1, max_iter=20000, multi_class='multinomial',\n",
       "          n_jobs=None, penalty='l2', random_state=None, solver='saga',\n",
       "          tol=1e-05, verbose=0, warm_start=False),\n",
       "       fit_params=None, iid='warn', n_jobs=-1,\n",
       "       param_grid={'C': [0.1, 0.5, 1.0, 5.0, 10.0, 20], 'penalty': ['l1', 'l2']},\n",
       "       pre_dispatch='2*n_jobs', refit=True, return_train_score='warn',\n",
       "       scoring='accuracy', verbose=0)"
      ]
     },
     "execution_count": 18,
     "metadata": {},
     "output_type": "execute_result"
    }
   ],
   "source": [
    "gs = GridSearchCV(lr_clf, parametrs, cv = 5, scoring = 'accuracy', n_jobs=-1)\n",
    "\n",
    "gs.fit(X_train_scaled, y_train_scaled)"
   ]
  },
  {
   "cell_type": "code",
   "execution_count": 19,
   "metadata": {
    "scrolled": false
   },
   "outputs": [
    {
     "data": {
      "text/plain": [
       "LogisticRegression(C=5.0, class_weight=None, dual=False, fit_intercept=True,\n",
       "          intercept_scaling=1, max_iter=20000, multi_class='multinomial',\n",
       "          n_jobs=None, penalty='l1', random_state=None, solver='saga',\n",
       "          tol=1e-05, verbose=0, warm_start=False)"
      ]
     },
     "execution_count": 19,
     "metadata": {},
     "output_type": "execute_result"
    }
   ],
   "source": [
    "gs.best_estimator_"
   ]
  },
  {
   "cell_type": "code",
   "execution_count": 23,
   "metadata": {},
   "outputs": [],
   "source": [
    "# Фитим \"лучшую\" лог.регрессию\n",
    "\n",
    "from sklearn.metrics import roc_curve, f1_score\n",
    "\n",
    "lr_best = LogisticRegression(multi_class = 'multinomial', max_iter = 200000, solver = 'saga', tol = 0.00001, C = 5.0, penalty = 'l1')\n",
    "lr_best.fit(X_train_scaled, y_train_scaled)\n",
    "y_pred = lr_best.predict(X_test_scaled)"
   ]
  },
  {
   "cell_type": "code",
   "execution_count": 24,
   "metadata": {
    "scrolled": true
   },
   "outputs": [
    {
     "data": {
      "image/png": "[encoded data removed]",
      "text/plain": [
       "<Figure size 576x432 with 1 Axes>"
      ]
     },
     "metadata": {
      "needs_background": "light"
     },
     "output_type": "display_data"
    }
   ],
   "source": [
    "from matplotlib import pyplot as plt\n",
    "\n",
    "arr_1_1, arr_2_1, thresh = roc_curve(y_pred, y_test_scaled, pos_label = 1)\n",
    "arr_1_2, arr_2_2, thresh = roc_curve(y_pred, y_test_scaled, pos_label = 2)\n",
    "arr_1_3, arr_2_3, thresh = roc_curve(y_pred, y_test_scaled, pos_label = 3)\n",
    "arr_1_4, arr_2_4, thresh = roc_curve(y_pred, y_test_scaled, pos_label = 4)\n",
    "\n",
    "f = plt.figure(figsize = (8, 6))\n",
    "\n",
    "plt.plot(arr_1_1, arr_2_1, label = '1')\n",
    "plt.plot(arr_1_2, arr_2_2, label = '2')\n",
    "plt.plot(arr_1_3, arr_2_3, label = '3')\n",
    "plt.plot(arr_1_4, arr_2_4, label = '4')\n",
    "plt.legend()\n",
    "plt.plot(np.linspace(0., 1., 49), np.linspace(0., 1., 49))\n",
    "plt.show()\n",
    "\n",
    "# Почему они то сверху, то снизу - никто не знает :c"
   ]
  },
  {
   "cell_type": "code",
   "execution_count": 25,
   "metadata": {},
   "outputs": [
    {
     "name": "stdout",
     "output_type": "stream",
     "text": [
      "f1 score = 0.8126474527669381\n",
      "Accuracy = 0.8047138047138047\n"
     ]
    }
   ],
   "source": [
    "f1 = f1_score(y_pred, y_test_scaled, average='macro')\n",
    "\n",
    "\n",
    "print('f1 score = {}'.format(f1))\n",
    "print('Accuracy = {}'.format(lr_best.score(X_test_scaled, y_test_scaled)))"
   ]
  },
  {
   "cell_type": "markdown",
   "metadata": {},
   "source": [
    "#### 2.2. Зависимость объясненной дисперсии от числа главных компонент.\n",
    "Воспользуемся методом главных компонент (PCA). \n",
    "\n",
    "Примените его к train-части данных.\n",
    "Постройте график зависимости объясненной дисперсии (explained variance ratio) от количества главных компонент."
   ]
  },
  {
   "cell_type": "code",
   "execution_count": 26,
   "metadata": {
    "nbgrader": {
     "grade": true,
     "grade_id": "cell-c6c614740bce090e",
     "locked": false,
     "points": 10,
     "schema_version": 2,
     "solution": true
    }
   },
   "outputs": [],
   "source": [
    "# Импортируем\n",
    "\n",
    "from sklearn.decomposition import PCA"
   ]
  },
  {
   "cell_type": "code",
   "execution_count": 27,
   "metadata": {},
   "outputs": [],
   "source": [
    "pca = PCA(n_components=5)\n",
    "\n",
    "x_pca = pca.fit(X_train_scaled)"
   ]
  },
  {
   "cell_type": "code",
   "execution_count": 28,
   "metadata": {},
   "outputs": [
    {
     "data": {
      "image/png": "[encoded data removed]",
      "text/plain": [
       "<Figure size 576x432 with 1 Axes>"
      ]
     },
     "metadata": {
      "needs_background": "light"
     },
     "output_type": "display_data"
    }
   ],
   "source": [
    "# На графике будем строить min(pca.explained_variance_ratio), минуму - потому что с каждым шагом будем видеть\n",
    "# какую дисперсию мы добавляем в обработанные с помощью PCA данные\n",
    "\n",
    "variance = []\n",
    "num_comp = np.linspace(1, 15, 15)\n",
    "\n",
    "for i in range(1, 16):\n",
    "    k = i\n",
    "    pca = PCA(n_components = k)\n",
    "    x_pca = pca.fit(X_test_scaled)\n",
    "    variance.append(min(x_pca.explained_variance_ratio_))\n",
    "    \n",
    "f = plt.figure(figsize = (8, 6))\n",
    "f.suptitle('PCA')\n",
    "\n",
    "plt.scatter(num_comp, variance, label = 'PCA', c = 'r')\n",
    "plt.ylabel('Variance')\n",
    "plt.xlabel('Num. of components')\n",
    "plt.legend()\n",
    "plt.show()"
   ]
  },
  {
   "cell_type": "markdown",
   "metadata": {
    "nbgrader": {
     "grade": false,
     "grade_id": "cell-0c1fe666f52fe53c",
     "locked": true,
     "schema_version": 2,
     "solution": false
    }
   },
   "source": [
    "#### 2.3. Преобразование с помощью PCA.\n",
    "Выберите определенное число компонент. Кратко опишите, чем обусловлен ваш выбор.\n",
    "\n",
    "Используя эти главные компоненты, преобразуйте train и test выборки (используя методы `fit` и `transform`)."
   ]
  },
  {
   "cell_type": "markdown",
   "metadata": {},
   "source": [
    "#### Inside:\n",
    "1) Возьмём 10 компонент, потому что у остальных компонент по сравнению с первыми 8-ю очень маленькая дисперсия, что видно на графике выше"
   ]
  },
  {
   "cell_type": "code",
   "execution_count": 47,
   "metadata": {
    "nbgrader": {
     "grade": true,
     "grade_id": "cell-96ab18d96473ef71",
     "locked": false,
     "points": 5,
     "schema_version": 2,
     "solution": true
    }
   },
   "outputs": [],
   "source": [
    "pca = PCA(n_components=10)\n",
    "\n",
    "X_train_pca = pca.fit_transform(X_train_scaled)\n",
    "X_test_pca = pca.fit_transform(X_test_scaled)"
   ]
  },
  {
   "cell_type": "markdown",
   "metadata": {
    "nbgrader": {
     "grade": false,
     "grade_id": "cell-d28b58a35c94e988",
     "locked": true,
     "schema_version": 2,
     "solution": false
    }
   },
   "source": [
    "#### 2.4. Логистическая регрессия над преобразованными данными.\n",
    "* Подберите оптимальные параметры логистической регресии с помощью кросс-валидации на преобразованном train-датасете.\n",
    "\n",
    "* Постройте график ROC-кривой для полученных классификаторов, оцените точность классификации и f1-score. "
   ]
  },
  {
   "cell_type": "code",
   "execution_count": 92,
   "metadata": {
    "nbgrader": {
     "grade": true,
     "grade_id": "cell-1dd5ad5d0845cbbb",
     "locked": false,
     "points": 5,
     "schema_version": 2,
     "solution": true
    }
   },
   "outputs": [],
   "source": [
    "lr_pca = LogisticRegression(multi_class = 'multinomial', max_iter = 1000000, solver = 'saga', tol = 0.00001)"
   ]
  },
  {
   "cell_type": "code",
   "execution_count": 93,
   "metadata": {},
   "outputs": [],
   "source": [
    "parametrs = {'C':[7.5, 10., 11.], 'penalty':['l1', 'l2']}"
   ]
  },
  {
   "cell_type": "code",
   "execution_count": 94,
   "metadata": {},
   "outputs": [
    {
     "data": {
      "text/plain": [
       "GridSearchCV(cv=5, error_score='raise-deprecating',\n",
       "       estimator=LogisticRegression(C=1.0, class_weight=None, dual=False, fit_intercept=True,\n",
       "          intercept_scaling=1, max_iter=1000000, multi_class='multinomial',\n",
       "          n_jobs=None, penalty='l2', random_state=None, solver='saga',\n",
       "          tol=1e-05, verbose=0, warm_start=False),\n",
       "       fit_params=None, iid='warn', n_jobs=-1,\n",
       "       param_grid={'C': [7.5, 10.0, 11.0], 'penalty': ['l1', 'l2']},\n",
       "       pre_dispatch='2*n_jobs', refit=True, return_train_score='warn',\n",
       "       scoring='accuracy', verbose=0)"
      ]
     },
     "execution_count": 94,
     "metadata": {},
     "output_type": "execute_result"
    }
   ],
   "source": [
    "gs = GridSearchCV(lr_pca, parametrs, cv = 5, scoring = 'accuracy', n_jobs=-1)\n",
    "\n",
    "gs.fit(X_train_pca, y_train_scaled)"
   ]
  },
  {
   "cell_type": "code",
   "execution_count": 95,
   "metadata": {
    "scrolled": false
   },
   "outputs": [
    {
     "data": {
      "text/plain": [
       "LogisticRegression(C=7.5, class_weight=None, dual=False, fit_intercept=True,\n",
       "          intercept_scaling=1, max_iter=1000000, multi_class='multinomial',\n",
       "          n_jobs=None, penalty='l2', random_state=None, solver='saga',\n",
       "          tol=1e-05, verbose=0, warm_start=False)"
      ]
     },
     "execution_count": 95,
     "metadata": {},
     "output_type": "execute_result"
    }
   ],
   "source": [
    "gs.best_estimator_"
   ]
  },
  {
   "cell_type": "code",
   "execution_count": 96,
   "metadata": {},
   "outputs": [],
   "source": [
    "lr_best_pca = LogisticRegression(multi_class = 'multinomial', max_iter = 100000, solver = 'saga', tol = 0.00001, C = 7.5, penalty = 'l1')\n",
    "lr_best_pca.fit(X_train_pca, y_train_scaled)\n",
    "y_pred_pca = lr_best_pca.predict(X_test_pca)"
   ]
  },
  {
   "cell_type": "code",
   "execution_count": 97,
   "metadata": {
    "scrolled": true
   },
   "outputs": [
    {
     "data": {
      "image/png": "[encoded data removed]",
      "text/plain": [
       "<Figure size 576x432 with 1 Axes>"
      ]
     },
     "metadata": {
      "needs_background": "light"
     },
     "output_type": "display_data"
    }
   ],
   "source": [
    "from matplotlib import pyplot as plt\n",
    "\n",
    "arr_1_1, arr_2_1, thresh = roc_curve(y_pred_pca, y_test_scaled, pos_label = 1)\n",
    "arr_1_2, arr_2_2, thresh = roc_curve(y_pred_pca, y_test_scaled, pos_label = 2)\n",
    "arr_1_3, arr_2_3, thresh = roc_curve(y_pred_pca, y_test_scaled, pos_label = 3)\n",
    "arr_1_4, arr_2_4, thresh = roc_curve(y_pred_pca, y_test_scaled, pos_label = 4)\n",
    "\n",
    "f = plt.figure(figsize = (8, 6))\n",
    "\n",
    "plt.plot(arr_1_1, arr_2_1, label = '1')\n",
    "plt.plot(arr_1_2, arr_2_2, label = '2')\n",
    "plt.plot(arr_1_3, arr_2_3, label = '3')\n",
    "plt.plot(arr_1_4, arr_2_4, label = '4')\n",
    "plt.legend()\n",
    "plt.plot(np.linspace(0., 1., 49), np.linspace(0., 1., 49))\n",
    "plt.show()"
   ]
  },
  {
   "cell_type": "code",
   "execution_count": 98,
   "metadata": {},
   "outputs": [
    {
     "name": "stdout",
     "output_type": "stream",
     "text": [
      "f1 score = 0.3548116392731983\n",
      "Accuracy = 0.3569023569023569\n"
     ]
    }
   ],
   "source": [
    "f1 = f1_score(y_pred_pca, y_test_scaled, average='macro')\n",
    "\n",
    "\n",
    "print('f1 score = {}'.format(f1))\n",
    "print('Accuracy = {}'.format(lr_best_pca.score(X_test_pca, y_test_scaled)))"
   ]
  },
  {
   "cell_type": "code",
   "execution_count": 104,
   "metadata": {},
   "outputs": [],
   "source": [
    "#print(X_train_scaled)"
   ]
  },
  {
   "cell_type": "markdown",
   "metadata": {},
   "source": [
    "#### Inside:\n",
    "\n",
    "1) С PCA что-то пошло не так. Хотя данные были препроцессены с использованем StandartScaler'a, но результаты получились какие-то дикие"
   ]
  },
  {
   "cell_type": "markdown",
   "metadata": {
    "nbgrader": {
     "grade": false,
     "grade_id": "cell-4fbf16c64076e139",
     "locked": true,
     "schema_version": 2,
     "solution": false
    }
   },
   "source": [
    "#### 2.5. Решающее дерево.\n",
    "Рассмотрим поведение решающего дерева на исходных и преобразованных данных. Будем варьировать лишь один параметр - максимальную глубину дерева. \n",
    "\n",
    "* С помощью кросс-валидации подберите оптимальный параметр `max_depth` и оцените на исходных и преобразованных данных те же метрики, что и выше."
   ]
  },
  {
   "cell_type": "code",
   "execution_count": 79,
   "metadata": {
    "nbgrader": {
     "grade": true,
     "grade_id": "cell-748ed20b51c67fab",
     "locked": false,
     "points": 15,
     "schema_version": 2,
     "solution": true
    }
   },
   "outputs": [],
   "source": [
    "from sklearn.tree import DecisionTreeClassifier\n",
    "\n",
    "dec_tree = DecisionTreeClassifier(criterion='gini', splitter='best')\n",
    "param_grid = {'max_depth':np.linspace(30, 60, 15)}"
   ]
  },
  {
   "cell_type": "code",
   "execution_count": 80,
   "metadata": {
    "nbgrader": {
     "grade": true,
     "grade_id": "cell-748ed20b51c67fab",
     "locked": false,
     "points": 15,
     "schema_version": 2,
     "solution": true
    }
   },
   "outputs": [
    {
     "name": "stderr",
     "output_type": "stream",
     "text": [
      "D:\\Anaconda\\lib\\site-packages\\sklearn\\model_selection\\_search.py:841: DeprecationWarning: The default of the `iid` parameter will change from True to False in version 0.22 and will be removed in 0.24. This will change numeric results when test-set sizes are unequal.\n",
      "  DeprecationWarning)\n"
     ]
    },
    {
     "data": {
      "text/plain": [
       "GridSearchCV(cv=5, error_score='raise-deprecating',\n",
       "       estimator=DecisionTreeClassifier(class_weight=None, criterion='gini', max_depth=None,\n",
       "            max_features=None, max_leaf_nodes=None,\n",
       "            min_impurity_decrease=0.0, min_impurity_split=None,\n",
       "            min_samples_leaf=1, min_samples_split=2,\n",
       "            min_weight_fraction_leaf=0.0, presort=False, random_state=None,\n",
       "            splitter='best'),\n",
       "       fit_params=None, iid='warn', n_jobs=-1,\n",
       "       param_grid={'max_depth': array([30.     , 32.14286, 34.28571, 36.42857, 38.57143, 40.71429,\n",
       "       42.85714, 45.     , 47.14286, 49.28571, 51.42857, 53.57143,\n",
       "       55.71429, 57.85714, 60.     ])},\n",
       "       pre_dispatch='2*n_jobs', refit=True, return_train_score='warn',\n",
       "       scoring='accuracy', verbose=0)"
      ]
     },
     "execution_count": 80,
     "metadata": {},
     "output_type": "execute_result"
    }
   ],
   "source": [
    "search = GridSearchCV(dec_tree, param_grid, cv = 5, scoring = 'accuracy', n_jobs=-1)\n",
    "\n",
    "search.fit(X_train_scaled, y_train_scaled)"
   ]
  },
  {
   "cell_type": "code",
   "execution_count": 81,
   "metadata": {},
   "outputs": [
    {
     "data": {
      "text/plain": [
       "DecisionTreeClassifier(class_weight=None, criterion='gini',\n",
       "            max_depth=38.57142857142857, max_features=None,\n",
       "            max_leaf_nodes=None, min_impurity_decrease=0.0,\n",
       "            min_impurity_split=None, min_samples_leaf=1,\n",
       "            min_samples_split=2, min_weight_fraction_leaf=0.0,\n",
       "            presort=False, random_state=None, splitter='best')"
      ]
     },
     "execution_count": 81,
     "metadata": {},
     "output_type": "execute_result"
    }
   ],
   "source": [
    "search.best_estimator_\n",
    "\n",
    "# best max_depth = 38"
   ]
  },
  {
   "cell_type": "code",
   "execution_count": 82,
   "metadata": {},
   "outputs": [],
   "source": [
    "best_dt = DecisionTreeClassifier(criterion='gini', splitter='best', max_depth = 38)\n",
    "best_dt.fit(X_train_scaled, y_train_scaled)\n",
    "y_pred_pca = best_dt.predict(X_test_scaled)"
   ]
  },
  {
   "cell_type": "code",
   "execution_count": 83,
   "metadata": {},
   "outputs": [
    {
     "data": {
      "image/png": "[encoded data removed]",
      "text/plain": [
       "<Figure size 576x432 with 1 Axes>"
      ]
     },
     "metadata": {
      "needs_background": "light"
     },
     "output_type": "display_data"
    }
   ],
   "source": [
    "from matplotlib import pyplot as plt\n",
    "\n",
    "arr_1_1, arr_2_1, thresh = roc_curve(y_pred_pca, y_test_scaled, pos_label = 1)\n",
    "arr_1_2, arr_2_2, thresh = roc_curve(y_pred_pca, y_test_scaled, pos_label = 2)\n",
    "arr_1_3, arr_2_3, thresh = roc_curve(y_pred_pca, y_test_scaled, pos_label = 3)\n",
    "arr_1_4, arr_2_4, thresh = roc_curve(y_pred_pca, y_test_scaled, pos_label = 4)\n",
    "\n",
    "f = plt.figure(figsize = (8, 6))\n",
    "\n",
    "plt.plot(arr_1_1, arr_2_1, label = '1')\n",
    "plt.plot(arr_1_2, arr_2_2, label = '2')\n",
    "plt.plot(arr_1_3, arr_2_3, label = '3')\n",
    "plt.plot(arr_1_4, arr_2_4, label = '4')\n",
    "plt.legend()\n",
    "plt.plot(np.linspace(0., 1., 49), np.linspace(0., 1., 49))\n",
    "plt.show()"
   ]
  },
  {
   "cell_type": "code",
   "execution_count": 84,
   "metadata": {},
   "outputs": [
    {
     "name": "stdout",
     "output_type": "stream",
     "text": [
      "f1 score = 0.8126474527669381\n",
      "Accuracy = 0.7070707070707071\n"
     ]
    }
   ],
   "source": [
    "f1 = f1_score(y_pred, y_test_scaled, average='macro')\n",
    "\n",
    "\n",
    "print('f1 score = {}'.format(f1))\n",
    "print('Accuracy = {}'.format(best_dt.score(X_test_scaled, y_test_scaled)))"
   ]
  },
  {
   "cell_type": "markdown",
   "metadata": {},
   "source": [
    "#### Inside:\n",
    "\n",
    "1) Наилучший показатель получился у решающего дерева с max_depth = 38"
   ]
  },
  {
   "cell_type": "markdown",
   "metadata": {
    "nbgrader": {
     "grade": false,
     "grade_id": "cell-9eadd4d8a03ae67a",
     "locked": true,
     "schema_version": 2,
     "solution": false
    }
   },
   "source": [
    "#### 2.6. Bagging.\n",
    "Перейдем к ансамблям. \n",
    "\n",
    "Для построения ансамбля воспользуемся Bagging'ом с числом алгоритмов от 2 до 50. В качестве первого семейства базовых алгоримтов будем использовать линейные модели (т.е. логистическую регрессию), в качестве второго - решающие деревья. \n",
    "\n",
    "*Пояснение: Будем строить ансамбль только из моделей из одного семейства, т.е. логистическая регрессия не смешивается с решающими деревьями.*\n",
    "\n",
    "Для этого можно сгенерировать с помощью метода bootstrap 50 подвыборок из `train` выборки (того же размера, что и исходная), обучить логистическую регрессию и решающее дерево с оптимальными параметрами из предыдущего пункта на каждой из подвыборок и затем усреднить предсказания k моделей.\n",
    "\n",
    "*Hint: в sklearn может найтись подходящая функция, которая облегчит вам реализацию данного пункта.*\n",
    "\n",
    "* Постройте график качества классификации и f1-score на `train` и `test` датасетах в зависимости от числа алгоритмов, вошедших в ансамбль.\n",
    "\n",
    "* Проанализируйте график. Какое количество моделей стоит использовать? Как вы думаете, являются ли параметры решающего дерева, подобранные в предыдущем пункте оптимальными в данном случае?"
   ]
  },
  {
   "cell_type": "code",
   "execution_count": 85,
   "metadata": {
    "nbgrader": {
     "grade": true,
     "grade_id": "cell-8fc95a2b206bdae1",
     "locked": false,
     "points": 35,
     "schema_version": 2,
     "solution": true
    }
   },
   "outputs": [],
   "source": [
    "# Importing\n",
    "\n",
    "from sklearn.ensemble import BaggingClassifier"
   ]
  },
  {
   "cell_type": "code",
   "execution_count": 148,
   "metadata": {},
   "outputs": [],
   "source": [
    "import warnings\n",
    "\n",
    "warnings.filterwarnings('always')"
   ]
  },
  {
   "cell_type": "code",
   "execution_count": null,
   "metadata": {},
   "outputs": [],
   "source": [
    "# Bagging for LogRes\n",
    "\n",
    "f1_score_list = []\n",
    "accuracy = []\n",
    "num_est = np.linspace(2, 10, 9)\n",
    "\n",
    "# Used estimator\n",
    "lr_best_bagg = LogisticRegression(multi_class = 'multinomial', max_iter = 100000, solver = 'saga', tol = 0.00001, C = 6.0, penalty = 'l1')\n",
    "\n",
    "for x in num_est:\n",
    "    k = int(x)\n",
    "    bagg = BaggingClassifier(base_estimator=lr_best_bagg, n_estimators=k, max_samples=1.0)\n",
    "    bagg.fit(X_train_scaled, y_train_scaled)\n",
    "    y_pred_bagg = bagg.predict(X_test_scaled)\n",
    "    f1_score_list.append(f1_score(y_pred_bagg, y_test_scaled, average='macro'))\n",
    "    accuracy.append(bagg.score(X_test_scaled, y_test_scaled))   "
   ]
  },
  {
   "cell_type": "code",
   "execution_count": null,
   "metadata": {},
   "outputs": [],
   "source": [
    "# Plotting\n",
    "\n",
    "f = plt.figure(figsize = (8, 6))\n",
    "f.suptitle('Bagging for LogRes')\n",
    "\n",
    "plt.plot(num_est, f1_score_list, label = 'f1 score')\n",
    "plt.plot(num_est, accuracy, label = 'accuracy')\n",
    "plt.legend()\n",
    "#plt.plot(np.linspace(0., 1., 49), np.linspace(0., 1., 49))\n",
    "plt.show()"
   ]
  },
  {
   "cell_type": "code",
   "execution_count": 145,
   "metadata": {},
   "outputs": [],
   "source": [
    "#Baggin for trees\n",
    "\n",
    "f1_score_list_tree = []\n",
    "accuracy_tree = []\n",
    "num_est = np.linspace(2, 50, 49)\n",
    "\n",
    "# Used estimator\n",
    "best_tree = DecisionTreeClassifier(criterion='gini', splitter='best', max_depth = 38)\n",
    "\n",
    "for x in num_est:\n",
    "    k = int(x)\n",
    "    bagg = BaggingClassifier(base_estimator=best_tree, n_estimators=k, max_samples=1.0)\n",
    "    bagg.fit(X_train_scaled, y_train_scaled)\n",
    "    y_pred_bagg = bagg.predict(X_test_scaled)\n",
    "    f1_score_list_tree.append(f1_score(y_pred_bagg, y_test_scaled, average='macro'))\n",
    "    accuracy_tree.append(bagg.score(X_test_scaled, y_test_scaled)) "
   ]
  },
  {
   "cell_type": "code",
   "execution_count": 146,
   "metadata": {},
   "outputs": [
    {
     "data": {
      "image/png": "[encoded data removed]",
      "text/plain": [
       "<Figure size 576x432 with 1 Axes>"
      ]
     },
     "metadata": {
      "needs_background": "light"
     },
     "output_type": "display_data"
    }
   ],
   "source": [
    "# Plotting\n",
    "\n",
    "f = plt.figure(figsize = (8, 6))\n",
    "f.suptitle('Bagging for Trees')\n",
    "\n",
    "plt.plot(num_est, f1_score_list_tree, label = 'f1 score')\n",
    "plt.plot(num_est, accuracy_tree, label = 'accuracy')\n",
    "plt.legend()\n",
    "plt.show()"
   ]
  },
  {
   "cell_type": "markdown",
   "metadata": {},
   "source": [
    "#### Inside:\n",
    "\n",
    "1) Количество моделей, которое нужно использовать >= 20, после этого и f1_score, и accuracy выходят на некоторый уровень, вокруг которого просто флуктуирует с дальнейшем увеличением количеством алгоритмов.\n",
    "\n",
    "2) Параметры решающего дерева скорее всего можно было выбрать по-другому. Из-за того, что наши предсказания по всем алгоритмам усредняются, то глубину дерева можно было взять поменьше, чтобы а) сэкономить время б) деревья были бы ещё более независимы."
   ]
  },
  {
   "cell_type": "markdown",
   "metadata": {
    "nbgrader": {
     "grade": false,
     "grade_id": "cell-241b7691ab44cbfb",
     "locked": true,
     "schema_version": 2,
     "solution": false
    }
   },
   "source": [
    "#### 2.7. Random Forest.\n",
    "Теперь воспользуйтесь `sklearn`-реализацией алгоритма Random Forest. \n",
    "\n",
    "* Постройте аналогичные графики для него (изменяя число деревьев от 1 до 50). Остальные параметры можно оставить по умолчанию.\n",
    "\n",
    "* Проанализируйте полученные результаты. Каким получилось оптимальное число деревьев. Как оно соотносится с оптимальным числом деревьев и линейных моделей в bagging'е из предыдущего пункта?"
   ]
  },
  {
   "cell_type": "code",
   "execution_count": 143,
   "metadata": {
    "nbgrader": {
     "grade": true,
     "grade_id": "cell-888755d0f3d91620",
     "locked": false,
     "points": 15,
     "schema_version": 2,
     "solution": true
    }
   },
   "outputs": [],
   "source": [
    "from sklearn.ensemble import RandomForestClassifier\n",
    "\n",
    "forest_res_f1 = []\n",
    "forest_res_accuracy = []\n",
    "num_trees = np.linspace(1, 50, 50)\n",
    "\n",
    "for x in num_trees:\n",
    "    k = int(x)\n",
    "    forest = RandomForestClassifier(n_estimators = k)\n",
    "    forest.fit(X_train_scaled, y_train_scaled)\n",
    "    y_pred_forest = forest.predict(X_test_scaled)\n",
    "    forest_res_f1.append(f1_score(y_pred_forest, y_test_scaled, average='macro'))\n",
    "    forest_res_accuracy.append(forest.score(X_test_scaled, y_test_scaled))"
   ]
  },
  {
   "cell_type": "code",
   "execution_count": 144,
   "metadata": {},
   "outputs": [
    {
     "data": {
      "image/png": "[encoded data removed]",
      "text/plain": [
       "<Figure size 576x432 with 1 Axes>"
      ]
     },
     "metadata": {
      "needs_background": "light"
     },
     "output_type": "display_data"
    }
   ],
   "source": [
    "# Plotting\n",
    "\n",
    "f = plt.figure(figsize = (8, 6))\n",
    "f.suptitle('Random Forest')\n",
    "\n",
    "plt.plot(num_trees, forest_res_f1, label = 'f1 score')\n",
    "plt.plot(num_trees, forest_res_accuracy, label = 'accuracy')\n",
    "plt.legend()\n",
    "plt.show()"
   ]
  },
  {
   "cell_type": "markdown",
   "metadata": {},
   "source": [
    "#### Inside:\n",
    "\n",
    "1) Количество деревьев, которое нужно так же использовать >= 20. Поведения f1_score и accuracy схожи для bagging'a и для RandomForest.\n"
   ]
  },
  {
   "cell_type": "markdown",
   "metadata": {
    "nbgrader": {
     "grade": false,
     "grade_id": "cell-99191c0852538d4d",
     "locked": true,
     "schema_version": 2,
     "solution": false
    }
   },
   "source": [
    "#### 2.8. Кривая обучения.\n",
    "* Поделите обучающую выборку на 10 примерно равных частей. Обучите логистическую регрессию (с оптимальными параметрами), решающее дерево (аналогично), бэггинг над логистическими регрессиями и решающими деревьями (с выбранными параметрами) и RandomForest (из предыдущего пункта) на одной, двух, трех и т.д. частях.\n",
    "\n",
    "* Постройти график f1-score и accuracy на `train` и `test` датасетах в зависимости от размера обучающей выборки.\n",
    "\n",
    "* Проанализируйте полученный график. Можно ли сделать из него какие-либо выводы? Если да - кратко опишите их."
   ]
  },
  {
   "cell_type": "code",
   "execution_count": null,
   "metadata": {
    "nbgrader": {
     "grade": true,
     "grade_id": "cell-e39bc7e7dff61ff9",
     "locked": false,
     "points": 15,
     "schema_version": 2,
     "solution": true
    }
   },
   "outputs": [],
   "source": [
    "# YOUR CODE HERE"
   ]
  }
 ],
 "metadata": {
  "celltoolbar": "Create Assignment",
  "kernelspec": {
   "display_name": "Python 3",
   "language": "python",
   "name": "python3"
  },
  "language_info": {
   "codemirror_mode": {
    "name": "ipython",
    "version": 3
   },
   "file_extension": ".py",
   "mimetype": "text/x-python",
   "name": "python",
   "nbconvert_exporter": "python",
   "pygments_lexer": "ipython3",
   "version": "3.7.3"
  },
  "toc": {
   "base_numbering": 1,
   "nav_menu": {},
   "number_sections": false,
   "sideBar": true,
   "skip_h1_title": false,
   "title_cell": "Table of Contents",
   "title_sidebar": "Contents",
   "toc_cell": false,
   "toc_position": {},
   "toc_section_display": true,
   "toc_window_display": false
  }
 },
 "nbformat": 4,
 "nbformat_minor": 2
}
